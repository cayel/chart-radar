{
 "cells": [
  {
   "cell_type": "markdown",
   "metadata": {},
   "source": [
    "# chart-radar-disco"
   ]
  },
  {
   "cell_type": "markdown",
   "metadata": {},
   "source": [
    "## Discogs\n",
    "\n",
    "La récupération des informations d'un disque peut être réalisée avec l'API Discogs:\n",
    "[Documentation](https://www.discogs.com/developers)\n",
    "\n",
    "Cette récupération doit être réalisée en 2 étapes. La première permet de rechercher le disque à partir d'un nom d'artiste et d'un titre d'album. A partir de ces informations, on peut extraire la référence du master qui nous permet dans un second temps de récupérer les informations caractéristiques de l'album."
   ]
  },
  {
   "cell_type": "code",
   "execution_count": 3,
   "metadata": {},
   "outputs": [
    {
     "ename": "KeyError",
     "evalue": "'results'",
     "output_type": "error",
     "traceback": [
      "\u001b[0;31m---------------------------------------------------------------------------\u001b[0m",
      "\u001b[0;31mKeyError\u001b[0m                                  Traceback (most recent call last)",
      "Cell \u001b[0;32mIn[3], line 72\u001b[0m\n\u001b[1;32m     69\u001b[0m artist \u001b[38;5;241m=\u001b[39m \u001b[38;5;124m\"\u001b[39m\u001b[38;5;124mThe Cure\u001b[39m\u001b[38;5;124m\"\u001b[39m\n\u001b[1;32m     70\u001b[0m title \u001b[38;5;241m=\u001b[39m \u001b[38;5;124m\"\u001b[39m\u001b[38;5;124mDisintegration\u001b[39m\u001b[38;5;124m\"\u001b[39m\n\u001b[0;32m---> 72\u001b[0m master_id\u001b[38;5;241m=\u001b[39m\u001b[43msearch_and_get_master_id\u001b[49m\u001b[43m(\u001b[49m\u001b[43martist\u001b[49m\u001b[43m,\u001b[49m\u001b[43m \u001b[49m\u001b[43mtitle\u001b[49m\u001b[43m)\u001b[49m\n\u001b[1;32m     73\u001b[0m \u001b[38;5;28;01mif\u001b[39;00m master_id \u001b[38;5;129;01mis\u001b[39;00m \u001b[38;5;129;01mnot\u001b[39;00m \u001b[38;5;28;01mNone\u001b[39;00m:\n\u001b[1;32m     74\u001b[0m     \u001b[38;5;28mprint\u001b[39m(\u001b[38;5;124mf\u001b[39m\u001b[38;5;124m'\u001b[39m\u001b[38;5;124mMaster ID trouvé: \u001b[39m\u001b[38;5;132;01m{\u001b[39;00mmaster_id\u001b[38;5;132;01m}\u001b[39;00m\u001b[38;5;124m'\u001b[39m)\n",
      "Cell \u001b[0;32mIn[3], line 35\u001b[0m, in \u001b[0;36msearch_and_get_master_id\u001b[0;34m(artist, title)\u001b[0m\n\u001b[1;32m     33\u001b[0m response \u001b[38;5;241m=\u001b[39m requests\u001b[38;5;241m.\u001b[39mget(url, params\u001b[38;5;241m=\u001b[39mparams)\n\u001b[1;32m     34\u001b[0m data \u001b[38;5;241m=\u001b[39m response\u001b[38;5;241m.\u001b[39mjson()\n\u001b[0;32m---> 35\u001b[0m \u001b[38;5;28;01mif\u001b[39;00m (\u001b[43mdata\u001b[49m\u001b[43m[\u001b[49m\u001b[38;5;124;43m'\u001b[39;49m\u001b[38;5;124;43mresults\u001b[39;49m\u001b[38;5;124;43m'\u001b[39;49m\u001b[43m]\u001b[49m \u001b[38;5;241m==\u001b[39m []):\n\u001b[1;32m     36\u001b[0m     \u001b[38;5;28;01mreturn\u001b[39;00m \u001b[38;5;28;01mNone\u001b[39;00m\n\u001b[1;32m     37\u001b[0m \u001b[38;5;28;01melse\u001b[39;00m :\n",
      "\u001b[0;31mKeyError\u001b[0m: 'results'"
     ]
    }
   ],
   "source": [
    "import requests\n",
    "import json\n",
    "from dotenv import load_dotenv\n",
    "import os\n",
    "from IPython.display import display, Image\n",
    "\n",
    "load_dotenv()\n",
    "token = os.getenv('TOKEN')\n",
    "\n",
    "def search_and_get_release_id(artist, title):\n",
    "    url = \"https://api.discogs.com/database/search\"\n",
    "    params = {\n",
    "        \"release_title\": title,\n",
    "        \"artist\": artist,\n",
    "        \"type\": \"release\",\n",
    "        \"token\": token\n",
    "    }\n",
    "    response = requests.get(url, params=params)\n",
    "    data = response.json()\n",
    "    if (data['results'] == []):\n",
    "        return None\n",
    "    else :\n",
    "        return data['results'][0]['id']\n",
    "\n",
    "def search_and_get_master_id(artist, title):        \n",
    "    url = \"https://api.discogs.com/database/search\"\n",
    "    params = {\n",
    "        \"release_title\": title,\n",
    "        \"artist\": artist,\n",
    "        \"type\": \"master\",\n",
    "        \"token\": token\n",
    "    }\n",
    "    response = requests.get(url, params=params)\n",
    "    data = response.json()\n",
    "    if (data['results'] == []):\n",
    "        return None\n",
    "    else :\n",
    "        return data['results'][0]['master_id']\n",
    "\n",
    "def get_release_info(release_id):\n",
    "    url = f\"https://api.discogs.com/releases/{release_id}\"\n",
    "    params = {\n",
    "        \"token\": token\n",
    "    }\n",
    "    response = requests.get(url, params=params)\n",
    "    data = response.json()\n",
    "    return data \n",
    "    \n",
    "def get_master_info(master_id):\n",
    "    url = f\"https://api.discogs.com/masters/{master_id}\"\n",
    "    params = {\n",
    "        \"token\": token\n",
    "    }\n",
    "    response = requests.get(url, params=params)\n",
    "    data = response.json()\n",
    "    return data\n",
    "\n",
    "def display_master_info(master_info):\n",
    "    print(f\"Titre: {master_info['title']}\")\n",
    "    print(f\"Année: {master_info['year']}\")\n",
    "    print(f\"Artiste: {master_info['artists'][0]['name']}\")\n",
    "    \n",
    "def display_master_sleeve(master_info):\n",
    "    image_url = master_info['images'][0]['uri']\n",
    "    display(Image(url=image_url))\n",
    "      \n",
    "#master_id = search_and_get_master_id(\"The Beatles\", \"Abbey Road\")\n",
    "#master_id = search_and_get_master_id(\"Norma Loy\", \"Sacrifice\")\n",
    "artist = \"Laura Veirs\"\n",
    "title = \"Phone Orphans\"\n",
    "\n",
    "master_id=search_and_get_master_id(artist, title)\n",
    "if master_id is not None:\n",
    "    print(f'Master ID trouvé: {master_id}')\n",
    "    master_info = get_master_info(master_id)\n",
    "    # print(json.dumps(master_info, indent=4))\n",
    "    display_master_info(master_info)\n",
    "    display_master_sleeve(master_info)    \n",
    "else:\n",
    "    print('Aucun Master ID trouvé pour cette recherche.')\n",
    "    release_id=search_and_get_release_id(artist, title)\n",
    "    if release_id is not None:\n",
    "        print(f'Release ID trouvé: {release_id}')\n",
    "        release_info = get_release_info(release_id)\n",
    "        display_master_info(release_info)  \n",
    "        display_master_sleeve(release_info)\n",
    "    else:\n",
    "        print('Aucun Release ID trouvé pour cette recherche.')"
   ]
  }
 ],
 "metadata": {
  "kernelspec": {
   "display_name": "Python 3",
   "language": "python",
   "name": "python3"
  },
  "language_info": {
   "codemirror_mode": {
    "name": "ipython",
    "version": 3
   },
   "file_extension": ".py",
   "mimetype": "text/x-python",
   "name": "python",
   "nbconvert_exporter": "python",
   "pygments_lexer": "ipython3",
   "version": "3.11.6"
  }
 },
 "nbformat": 4,
 "nbformat_minor": 2
}
