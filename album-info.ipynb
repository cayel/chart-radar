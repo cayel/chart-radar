{
 "cells": [
  {
   "cell_type": "markdown",
   "metadata": {},
   "source": [
    "# chart-radar-disco"
   ]
  },
  {
   "cell_type": "markdown",
   "metadata": {},
   "source": [
    "## Discogs\n",
    "\n",
    "La récupération des informations d'un disque peut être réalisée avec l'API Discogs:\n",
    "[Documentation](https://www.discogs.com/developers)\n",
    "\n",
    "Cette récupération doit être réalisée en 2 étapes. La première permet de rechercher le disque à partir d'un nom d'artiste et d'un titre d'album. A partir de ces informations, on peut extraire la référence du master qui nous permet dans un second temps de récupérer les informations caractéristiques de l'album."
   ]
  },
  {
   "cell_type": "code",
   "execution_count": 1,
   "metadata": {},
   "outputs": [
    {
     "name": "stdout",
     "output_type": "stream",
     "text": [
      "Master ID trouvé: 57279\n",
      "Titre: The Miseducation Of Lauryn Hill\n",
      "Année: 1998\n",
      "Artiste: Lauryn Hill\n"
     ]
    },
    {
     "data": {
      "text/html": [
       "<img src=\"https://i.discogs.com/I0kfeLY7Jo3mhf3IB7lE7URdBu98gf4N8VKh3zQM1rU/rs:fit/g:sm/q:90/h:600/w:590/czM6Ly9kaXNjb2dz/LWRhdGFiYXNlLWlt/YWdlcy9SLTIyNzAy/MC0xMzAxMjQzNTM1/LmpwZWc.jpeg\"/>"
      ],
      "text/plain": [
       "<IPython.core.display.Image object>"
      ]
     },
     "metadata": {},
     "output_type": "display_data"
    }
   ],
   "source": [
    "import requests\n",
    "import json\n",
    "from dotenv import load_dotenv\n",
    "import os\n",
    "from IPython.display import display, Image\n",
    "\n",
    "load_dotenv()\n",
    "token = os.getenv('TOKEN')\n",
    "\n",
    "def search_and_get_master_id(artist, title):        \n",
    "    url = \"https://api.discogs.com/database/search\"\n",
    "    params = {\n",
    "        \"release_title\": title,\n",
    "        \"artist\": artist,\n",
    "        \"type\": \"master\",\n",
    "        \"token\": token\n",
    "    }\n",
    "    response = requests.get(url, params=params)\n",
    "    data = response.json()\n",
    "    if (data['results'] == []):\n",
    "        return None\n",
    "    else :\n",
    "        return data['results'][0]['master_id']\n",
    "    \n",
    "def get_master_info(master_id):\n",
    "    url = f\"https://api.discogs.com/masters/{master_id}\"\n",
    "    params = {\n",
    "        \"token\": token\n",
    "    }\n",
    "    response = requests.get(url, params=params)\n",
    "    data = response.json()\n",
    "    return data\n",
    "\n",
    "def display_master_info(master_info):\n",
    "    print(f\"Titre: {master_info['title']}\")\n",
    "    print(f\"Année: {master_info['year']}\")\n",
    "    print(f\"Artiste: {master_info['artists'][0]['name']}\")\n",
    "    \n",
    "def display_master_sleeve(master_info):\n",
    "    image_url = master_info['images'][0]['uri']\n",
    "    display(Image(url=image_url))\n",
    "      \n",
    "#master_id = search_and_get_master_id(\"The Beatles\", \"Abbey Road\")\n",
    "#master_id = search_and_get_master_id(\"Norma Loy\", \"Sacrifice\")\n",
    "master_id=search_and_get_master_id(\"Lauryn Hill\", \"‘The Miseducation Of Lauryn Hill’\")\n",
    "if master_id is not None:\n",
    "    print(f'Master ID trouvé: {master_id}')\n",
    "    master_info = get_master_info(master_id)\n",
    "    # print(json.dumps(master_info, indent=4))\n",
    "    display_master_info(master_info)\n",
    "    display_master_sleeve(master_info)    \n",
    "else:\n",
    "    print('Aucun Master ID trouvé pour cette recherche.')"
   ]
  }
 ],
 "metadata": {
  "kernelspec": {
   "display_name": "Python 3",
   "language": "python",
   "name": "python3"
  },
  "language_info": {
   "codemirror_mode": {
    "name": "ipython",
    "version": 3
   },
   "file_extension": ".py",
   "mimetype": "text/x-python",
   "name": "python",
   "nbconvert_exporter": "python",
   "pygments_lexer": "ipython3",
   "version": "3.11.6"
  }
 },
 "nbformat": 4,
 "nbformat_minor": 2
}
