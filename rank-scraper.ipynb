{
 "cells": [
  {
   "cell_type": "markdown",
   "metadata": {},
   "source": [
    "# Rank Scraper\n",
    "\n",
    "Ce programme permet d'extraire les données d'un site web qui a publié un classement musical. Les données alimentent la base sqlite database.db dans le sous répertoire data."
   ]
  },
  {
   "cell_type": "markdown",
   "metadata": {},
   "source": [
    "### TODO\n",
    "- Gothic\n",
    "  - Kerrang! : https://www.kerrang.com/the-16-essential-goth-albums-you-need-to-know\n",
    "    - no rank\n",
    "- Indie Rock\n",
    "  - https://www.melophobemusic.com/post/top-100-greatest-indie-rock-albums-of-all-time"
   ]
  },
  {
   "cell_type": "code",
   "execution_count": 271,
   "metadata": {},
   "outputs": [
    {
     "name": "stdout",
     "output_type": "stream",
     "text": [
      "Requirement already satisfied: pandas in /Users/christopheayel/Library/Python/3.11/lib/python/site-packages (2.2.1)\n",
      "Requirement already satisfied: numpy<2,>=1.23.2 in /Library/Frameworks/Python.framework/Versions/3.11/lib/python3.11/site-packages (from pandas) (1.26.4)\n",
      "Requirement already satisfied: python-dateutil>=2.8.2 in /Users/christopheayel/Library/Python/3.11/lib/python/site-packages (from pandas) (2.8.2)\n",
      "Requirement already satisfied: pytz>=2020.1 in /Library/Frameworks/Python.framework/Versions/3.11/lib/python3.11/site-packages (from pandas) (2024.1)\n",
      "Requirement already satisfied: tzdata>=2022.7 in /Library/Frameworks/Python.framework/Versions/3.11/lib/python3.11/site-packages (from pandas) (2024.1)\n",
      "Requirement already satisfied: six>=1.5 in /Users/christopheayel/Library/Python/3.11/lib/python/site-packages (from python-dateutil>=2.8.2->pandas) (1.16.0)\n",
      "\n",
      "\u001b[1m[\u001b[0m\u001b[34;49mnotice\u001b[0m\u001b[1;39;49m]\u001b[0m\u001b[39;49m A new release of pip is available: \u001b[0m\u001b[31;49m23.2.1\u001b[0m\u001b[39;49m -> \u001b[0m\u001b[32;49m24.0\u001b[0m\n",
      "\u001b[1m[\u001b[0m\u001b[34;49mnotice\u001b[0m\u001b[1;39;49m]\u001b[0m\u001b[39;49m To update, run: \u001b[0m\u001b[32;49mpython3 -m pip install --upgrade pip\u001b[0m\n",
      "Note: you may need to restart the kernel to use updated packages.\n"
     ]
    }
   ],
   "source": [
    "pip install pandas\n"
   ]
  },
  {
   "cell_type": "code",
   "execution_count": 272,
   "metadata": {},
   "outputs": [],
   "source": [
    "params = { \n",
    "    \"efe220cb-4981-40c7-8a6b-bd89b3569a17\":  { \n",
    "        #10. Juju – Siouxsie and The Banshees\n",
    "        \"urls\" : [\n",
    "            \"https://faroutmagazine.co.uk/the-10-greatest-goth-albums-of-all-time/\"\n",
    "        ],\n",
    "        \"regex\" : r'(\\d+)[.,]\\s(.+?)\\s?[–-]\\s(.*?)(?:\\s\\(.*\\))?$',\n",
    "        \"soup\" : 'h3',\n",
    "        \"artist_first\" : False,\n",
    "        \"name\" : \"Far Out\",\n",
    "        \"title\" : \"The 10 greatest goth albums of all time\",\n",
    "        \"style\" : \"Gothic\",\n",
    "        \"year\" : \"\",\n",
    "        \"date\" : \"22/05/2023\",\n",
    "        \"language\" : \"en\"\n",
    "    },\n",
    "    \"b2065bc7-68e3-4c64-878f-3700735126dd\":  { \n",
    "        #13. Red Lorry Yellow Lorry – Talk About the Weather (1985, Red Rhino)\n",
    "        \"urls\" : [\n",
    "            \"https://www.brooklynvegan.com/classic-goths-13-greatest-albums/\"\n",
    "        ],\n",
    "        \"regex\" : r'(\\d+)[.,]\\s(.+?)\\s?[–-]\\s(.*?)(?:\\s\\(.*\\))?$',\n",
    "        \"soup\" : 'strong',\n",
    "        \"artist_first\" : True,\n",
    "        \"name\" : \"Brooklyn Vegan\",\n",
    "        \"title\" : \"Classic Goth's 13 Greatest Albums\",\n",
    "        \"style\" : \"Gothic\",\n",
    "        \"year\" : \"\",\n",
    "        \"date\" : \"30/10/2020\",\n",
    "        \"language\" : \"en\"\n",
    "    },\n",
    "    \"116cbcd5-8721-49cb-8d1b-3cb897d8f338\":  { \n",
    "        #1. Joy Division- Closer (Factory, 1980) \n",
    "        \"urls\" : [\n",
    "            \"https://post-punk.com/40-years-of-goth-essential-albums-from-the-genres-beginnings/\"\n",
    "        ],\n",
    "        \"regex\" : r'(\\d+)[.,]\\s(.+?)\\s?[–-]\\s(.*?)(?:\\s\\(.*\\))?$',\n",
    "        \"soup\" : 'strong',\n",
    "        \"artist_first\" : True,\n",
    "        \"name\" : \"Post-punk.com\",\n",
    "        \"title\" : \"40 Years of Goth: Essential Albums from the Subculture’s Beginnings\",\n",
    "        \"style\" : \"Gothic\",\n",
    "        \"year\" : \"\",\n",
    "        \"date\" : \"31/10/2017\",\n",
    "        \"language\" : \"en\"\n",
    "    },\n",
    "    \"23d66e91-6dd9-4e1f-97db-984526ccc449\":  { \n",
    "        #10. Franz Ferdinand de Franz Ferdinand (2004) \n",
    "        \"urls\" : [\n",
    "            \"https://www.gqmagazine.fr/article/meilleurs-albums-indie-rock\"\n",
    "        ],\n",
    "        \"regex\" : r'(\\d+)\\.\\s(.*?)\\s(?:de|des)\\s(.*?)\\s\\((\\d+)\\)',\n",
    "        \"soup\" : 'h2',\n",
    "        \"artist_first\" : False,\n",
    "        \"name\" : \"GQ Magazine\",\n",
    "        \"title\" : \"Les 10 meilleurs albums d'indie rock de tous les temps\",\n",
    "        \"style\" : \"Indie Rock\",\n",
    "        \"year\" : \"\",\n",
    "        \"date\" : \"02/10/2023\",\n",
    "        \"language\" : \"fr\"\n",
    "    },\n",
    "    \"598ec7bb-043e-4fa6-b1e4-8e654571c961\":  {  \n",
    "        \"urls\" : [\n",
    "            \"https://www.nme.com/photos/the-500-greatest-albums-of-all-time-100-1-1426116\"\n",
    "        ],\n",
    "        \"regex\" :  r\"^(\\d+)([^,'']+)[,']?\\s*(.*?)'?$\",\n",
    "        \"soup\" : 'h2',\n",
    "        \"artist_first\" : True,\n",
    "        \"name\" : \"NME\",\n",
    "        \"title\" : \"The 500 Greatest Albums Of All Time\",\n",
    "        \"style\" : \"\",\n",
    "        \"year\" : \"\",\n",
    "        \"date\" : \"25/10/2013\",\n",
    "        \"language\" : \"en\"\n",
    "    },\n",
    "    \"598ec7bb-043e-4fa6-b1e4-8e654571c961\":  {  \n",
    "        \"urls\" : [\n",
    "            \"https://www.nme.com/photos/the-500-greatest-albums-of-all-time-200-101-1426258\"\n",
    "        ],\n",
    "        \"regex\" :  r\"^(\\d+)([^,'']+)[,']?\\s*(.*?)'?$\",\n",
    "        \"soup\" : 'h2',\n",
    "        \"artist_first\" : True,\n",
    "        \"name\" : \"NME\",\n",
    "        \"title\" : \"The 500 Greatest Albums Of All Time\",\n",
    "        \"style\" : \"\",\n",
    "        \"year\" : \"\",\n",
    "        \"date\" : \"25/10/2013\",\n",
    "        \"language\" : \"en\"\n",
    "    }\n",
    "}"
   ]
  },
  {
   "cell_type": "code",
   "execution_count": 273,
   "metadata": {},
   "outputs": [],
   "source": [
    "import requests\n",
    "from bs4 import BeautifulSoup\n",
    "import pandas as pd\n",
    "import requests\n",
    "from bs4 import BeautifulSoup\n",
    "import pandas as pd\n",
    "import re\n",
    "import sqlite3\n",
    "from datetime import datetime\n",
    "import uuid\n",
    "import html\n",
    "import time\n",
    "import json"
   ]
  },
  {
   "cell_type": "code",
   "execution_count": 274,
   "metadata": {},
   "outputs": [],
   "source": [
    "def is_title(string):\n",
    "    if string[0].isdigit():\n",
    "        return True\n",
    "    return False"
   ]
  },
  {
   "cell_type": "code",
   "execution_count": 275,
   "metadata": {},
   "outputs": [],
   "source": [
    "# Liste d'URLs à traiter\n",
    "url_list = ['https://spectrumculture.com/2013/03/21/13-best-goth-albums-of-all-time/',\n",
    "'https://spectrumculture.com/2013/03/21/13-best-goth-albums-of-all-time/2', \n",
    "        'https://spectrumculture.com/2013/03/21/13-best-goth-albums-of-all-time/3']"
   ]
  },
  {
   "cell_type": "code",
   "execution_count": 276,
   "metadata": {},
   "outputs": [],
   "source": [
    "def fetch_url(url):\n",
    "    # Create a session\n",
    "    session = requests.Session()\n",
    "\n",
    "    # Change the user agent and add Referer header\n",
    "    headers = {\n",
    "        'User-Agent': 'Mozilla/5.0 (Windows NT 10.0; Win64; x64) AppleWebKit/537.36 (KHTML, like Gecko) Chrome/58.0.3029.110 Safari/537.3',\n",
    "        'Referer': 'http://www.google.com/'\n",
    "    }\n",
    "\n",
    "    response = session.get(url, headers=headers)\n",
    "    if response.status_code == 200:\n",
    "        return response.text\n",
    "    else:\n",
    "        print(f\"Erreur lors de la récupération de la page. Code d'erreur : {response.status_code}\")\n",
    "        return None\n",
    "\n",
    "    # Delay between requests\n",
    "    time.sleep(1)"
   ]
  },
  {
   "cell_type": "code",
   "execution_count": 277,
   "metadata": {},
   "outputs": [],
   "source": [
    "def parse_html(html, soup_string):\n",
    "    soup = BeautifulSoup(html, 'html.parser')\n",
    "    bold_titles = soup.find_all(soup_string)\n",
    "    return bold_titles"
   ]
  },
  {
   "cell_type": "code",
   "execution_count": 278,
   "metadata": {},
   "outputs": [],
   "source": [
    "def extract_data_from_title(title, regex_string, artist_first):\n",
    "    title_string = title.get_text()\n",
    "    title_string = re.sub(r'^\\W+', '', title_string)  # Remove special characters and spaces from the left\n",
    "    title_string = html.unescape(title_string)  # Convert HTML entities to normal characters\n",
    "    print(title_string)\n",
    "    if is_title(title_string):\n",
    "        match = re.match(regex_string, title_string)\n",
    "        if match:\n",
    "            rank = match.group(1)\n",
    "            if (artist_first):\n",
    "                artist = match.group(2)\n",
    "                title = match.group(3)\n",
    "            else :\n",
    "                title = match.group(2)\n",
    "                artist = match.group(3)\n",
    "            return {'rank': rank, 'artist': artist, 'title': title}\n",
    "        else:\n",
    "            print(f\"Failed to extract data from title: {title_string}\")\n",
    "            return None\n",
    "    else:\n",
    "        return None"
   ]
  },
  {
   "cell_type": "code",
   "execution_count": 279,
   "metadata": {},
   "outputs": [],
   "source": [
    "def create_dataframe(data_list, id):\n",
    "    df = pd.DataFrame(data_list)\n",
    "    df['id_ranking'] = id\n",
    "    return df"
   ]
  },
  {
   "cell_type": "code",
   "execution_count": 280,
   "metadata": {},
   "outputs": [],
   "source": [
    "def extract_spectrum(url_list, soup, string_regex, artist_first):\n",
    "    data = []\n",
    "    for url in url_list:\n",
    "        html = fetch_url(url)\n",
    "        if html:\n",
    "            bold_titles = parse_html(html, soup)\n",
    "            for title in bold_titles:\n",
    "                data_item = extract_data_from_title(title, string_regex, artist_first)\n",
    "                if data_item:\n",
    "                    data.append(data_item)\n",
    "    return data\n"
   ]
  },
  {
   "cell_type": "code",
   "execution_count": 281,
   "metadata": {},
   "outputs": [],
   "source": [
    "# Create a connection to the SQLite database\n",
    "# Doesn't matter if the database doesn't yet exist\n",
    "def save_to_sqlite(df):\n",
    "    conn = sqlite3.connect('./data/database.db')\n",
    "    df.to_sql('album', conn, if_exists='append', index=False)\n",
    "    conn.close()\n"
   ]
  },
  {
   "cell_type": "code",
   "execution_count": 282,
   "metadata": {},
   "outputs": [],
   "source": [
    "def add_ranking(name, description, url, style, year, date, language):\n",
    "    # Create a connection to the SQLite database\n",
    "    conn = sqlite3.connect('./data/database.db')\n",
    "    cursor = conn.cursor()\n",
    "\n",
    "    # Check if ranking with same url already exists\n",
    "    cursor.execute(\"SELECT id FROM ranking WHERE url = ?\", (url,))\n",
    "    data = cursor.fetchone()\n",
    "    if data:\n",
    "        # ranking already exists\n",
    "        conn.close()\n",
    "        return -1\n",
    "    \n",
    "    # Generate a unique ID\n",
    "    guid = str(uuid.uuid4())\n",
    "    \n",
    "    # Define the insert query\n",
    "    query = \"\"\"\n",
    "    INSERT INTO ranking (id, name, description, url, style, year, date, language, created_date)\n",
    "    VALUES (?, ?, ?, ?, ?, ?, ?, ?, ?)\n",
    "    \"\"\"\n",
    "    # Define the record to insert\n",
    "    record = (guid, name, description, url, style, year, date, language, datetime.now())\n",
    "\n",
    "    # Execute the query\n",
    "    cursor.execute(query, record)\n",
    "\n",
    "    # Commit the transaction and close the connection\n",
    "    conn.commit()\n",
    "    conn.close()\n",
    "\n",
    "    return guid"
   ]
  },
  {
   "cell_type": "code",
   "execution_count": 283,
   "metadata": {},
   "outputs": [],
   "source": [
    "def delete_ranking(url) :\n",
    "    conn = sqlite3.connect('./data/database.db')\n",
    "    cursor = conn.cursor()\n",
    "    # Get the ranking ID \n",
    "    cursor.execute(\"SELECT id FROM ranking WHERE url = ?\", (url,))\n",
    "    data = cursor.fetchone()\n",
    "    if data:\n",
    "        ranking_id = data[0]\n",
    "        # Delete the ranking\n",
    "        cursor.execute(\"DELETE FROM ranking WHERE url = ?\", (url,))\n",
    "        # Delete the albums\n",
    "        cursor.execute(\"DELETE FROM albums WHERE id_ranking = ?\", (ranking_id,))\n",
    "        conn.commit()\n",
    "        conn.close()\n",
    "        return 0\n",
    "    else:\n",
    "        return -1"
   ]
  },
  {
   "cell_type": "code",
   "execution_count": 284,
   "metadata": {},
   "outputs": [],
   "source": [
    "def add_ranking_spectrum_gothic():\n",
    "    data=extract_spectrum(url_list)\n",
    "    id = add_ranking('Spectrum Culture', 'The 13 Best Goth Albums of All Time', 'https://spectrumculture.com/2013/03/21/13-best-goth-albums-of-all-time/', 'Gothic','')\n",
    "    df = create_dataframe(data,id)\n",
    "    save_to_sqlite(df)"
   ]
  },
  {
   "cell_type": "code",
   "execution_count": 285,
   "metadata": {},
   "outputs": [],
   "source": [
    "def extract_data_from_url(url, balise_html) :\n",
    "    data = []  \n",
    "    html = fetch_url(url)\n",
    "    if html:\n",
    "        titles = parse_html(html, balise_html)\n",
    "        for title in titles:\n",
    "            data.append(title.get_text())\n",
    "    return data"
   ]
  },
  {
   "cell_type": "code",
   "execution_count": 286,
   "metadata": {},
   "outputs": [],
   "source": [
    "def clean_data(data):\n",
    "    data = [re.sub(r'^\\W+', '', title) for title in data]\n",
    "    data = [html.unescape(title) for title in data]\n",
    "    #data = [title.replace(',', '') for title in data]\n",
    "    #data = [title.replace(\"‘\", ',') for title in data]    \n",
    "    return data"
   ]
  },
  {
   "cell_type": "code",
   "execution_count": 287,
   "metadata": {},
   "outputs": [],
   "source": [
    "def extract_data(data):\n",
    "    extracted_data = []\n",
    "    for title in data:\n",
    "        match = re.match(r'(\\d+)\\.\\s(.*?)\\s–\\s(.*?)\\s\\(.*\\)$', title)\n",
    "        if match:\n",
    "            rank = match.group(1)\n",
    "            artist = match.group(2)\n",
    "            title = match.group(3)\n",
    "            extracted_data.append({'rank': rank, 'artist': artist, 'title': title})\n",
    "    return extracted_data\n"
   ]
  },
  {
   "cell_type": "code",
   "execution_count": null,
   "metadata": {},
   "outputs": [],
   "source": []
  },
  {
   "cell_type": "markdown",
   "metadata": {},
   "source": [
    "## Programme principal"
   ]
  },
  {
   "cell_type": "code",
   "execution_count": 288,
   "metadata": {},
   "outputs": [
    {
     "name": "stdout",
     "output_type": "stream",
     "text": [
      "[\"Bienvenue dans la moitié haute de notre Top 101 de 2023 : les 50 premières places. Un classement à retrouver, en version longue et documentée, dans les 184 pages de notre hors-série bilan de l'année.\", 'Retrouvez, dans les 184 pages de notre hors-série 2023, les 101 (!) disques de notre Top albums. Ils sont tous chroniqués et, pour une partie d’entre eux, enrichis de témoignages ou d’interview exclusives. Pour vous le procurer c’est par ici.', 'La première partie du classement (51e à 100e) est disponible ici.', '50. ALBIN DE LA SIMONE – Les Cent Prochaines Années (TÔT OU TARD)', '49. LE CRI DU CAIRE – Le Cri du Caire (LES DISQUES DU FESTIVAL PERMANENT / AIRFONO / L’ONDE & CYBÈLE)', '48. LAURA VEIRS – Phone Orphans (RAVEN MARCHING BAND RECORDS)', '47. ANNA B SAVAGE – in|FLUX (CITY SLANG)', '46. RÓISÍN MURPHY & DJ KOZE – Hit Parade (NINJA TUNE)', '45. HELENA DELAND – Goodnight Summerland (CHIVI CHIVI)', '44. GORILLAZ – Cracker Island (PARLOPHONE RECORDS / WARNER MUSIC)', '43. BOYGENIUS – the record (INTERSCOPE RECORDS)', '42. SLEAFORD MODS – UK GRIM (ROUGH TRADE RECORDS)', '41. LISA O’NEILL – All of This Is Chance (ROUGH TRADE RECORDS)', '___', '40. FOREVER PAVOT – L’Idiophone (BORN BAD RECORDS)', '39. EVERYTHING BUT THE GIRL – Fuse (BUZZIN’ FLY RECORDS / VIRGIN RECORDS)', '38. YOUTH LAGOON – Heaven Is a Junkyard (FAT POSSUM RECORDS)', '37. LUCIE ANTUNES – Carnaval (INFINÉ / CRYBABY)', '36. YO LA TENGO – This Stupid World (MATADOR RECORDS)', '35. KING KRULE – Space Heavy (XL RECORDINGS)', '34. ANIMAL COLLECTIVE – Isn’t It Now? (DOMINO RECORDS)', '33. BLACK COUNTRY, NEW ROAD – Live at Bush Hall (NINJA TUNE)', '32. EN ATTENDANT ANA – Principia (TROUBLE IN MIND RECORDS)', '31. CAT POWER – Cat Power Sings Dylan: The 1966 Royal Albert Hall Concert (DOMINO RECORDS)', '___', '30. JUNGLE – Volcano (CAIOLA RECORDS)', '29. JEAN FELZINE – Chord Memory (CLOSE HARMONIE / ROY MUSIC)', '28. HMTLD – The Worm (LUCKY NUMBER MUSIC)', '27. BC CAMPLIGHT – The Last Rotation of Earth (BELLA UNION / [PIAS])', '26. GEESE – 3D Country (PARTISAN RECORDS)', '25. DEPECHE MODE – Memento Mori (COLUMBIA RECORDS / SONY MUSIC)', '24. CLAIRE REDOR – Fruit mûr (UNE CHOSE SÛRE)', '23. STÉPHANE MILOCHEVITCH – La Bonne Aventure (TALITRES)', '22. BLONDE REDHEAD – Sit Down for Dinner (SECTION1)', '21. JPEGMAFIA X DANNY BROWN – SCARING THE HOES (AWAL)', '___', '20. ÉTIENNE DAHO – Tirer la nuit sur les étoiles (BARCLAY / UNIVERSAL)', '19. BLUR – The Ballad of Darren (PARLOPHONE RECORDS / WARNER MUSIC)', '18. HARP – Albion (BELLA UNION / [PIAS])', '17. THE LEMON TWIGS – Everything Harmony (CAPTURED TRACKS)', '16. POP CRIMES – Gathered Together (HOWLIN BANANA RECORDS / LES DISQUES DU PARADIS / SAFE IN THE RAIN RECORDS)', '15. MITSKI – The Land Is Inhospitable and So Are We (DEAD OCEANS)', '14. AGAR AGAR – Player Non Player (CRACKI RECORDS)', '13. STRUCTURES – A Place for My Hate (AMERICAN / FICTION RECORDS)', '12. SQUID – O Monolith (WARP RECORDS)', '11. THIS IS THE KIT – Careful of Your Keepers (ROUGH TRADE RECORDS)', '___', '10. ONEOHTRIX POINT NEVER – Again (WARP RECORDS)', '[extrait] Un retour à un embranchement qui lui offre l’opportunité de méditer à posteriori sur tous les “what if”, de réécrire son histoire avec des si, et nous régale de fécondes uchronies artistiques. L’approche générale est passionnante ? Le disque ne l’est pas moins (honteux euphémisme) et donne envie de crier des superlatifs à tout-va. Again est inclassable, tant il ne fait que se transformer, souvent plusieurs fois au sein du même morceau. Ambient, progressive electronic, plunderphonics, drone, utopian virtual, sound collage… Tous les genres et sous-genres qu’il a un jour explorés s’y retrouvent. Mais ce qu’on perd en constance, on le gagne en organicité, en amplitude, en technophilie critique […]', '9. MATT ELLIOTT – The End of Days (ICI D’AILLEURS)', '[extrait] C’est sans ambiguïté une musique de procession qui précède une mise en bière. La marche funèbre vers le bout de la falaise, pour reprendre l’image suggérée par Matt Elliott lui-même sur notre comportement collectif suicidaire. Une musique qui prépare au dernier clou. Mais c’est une musique belle à en pleurer : hypnotique, totale, fatale, où le goût pour les minivalses et le piano bienveillant de Barbara Dang œuvrent comme un baume. Le funambulisme de Matt Elliott entre son pessimisme ténébreux et la beauté lumineuse des musiques qui le touchent, qui ont imprégné son cerveau à l’église dès son plus jeune âge comme il nous le raconte dans ce numéro, n’a jamais été aussi magnifiquement proposé qu’ici […]', '8. SPARKLEHORSE – Bird Machine (ANTI- RECORDS)', '[extrait] Aussi paradoxal que cela puisse paraître, Bird Machine s’affirme peut-être comme le disque le plus lumineux de son auteur. On y croise toutefois des berceuses psychotiques comme ce O Child sur le fil du rasoir. “I’ve really come to hate my body and all the things that it requires in this world”, chantait-il dans Maria’s Little Elbows. Les souffrances se sont peut-être apaisées désormais et Mark Linkous nous revient plus vivant que jamais […]', '7. GRIAN CHATTEN – Chaos for the Fly (PARTISAN RECORDS)', '[extrait] De Chatten, on connaissait déjà la voix charismatique, sèche et profonde. Une voix qui, peut-être plus que jamais dans ce Chaos for the Fly, évoque la pluie qui transforme en serpillère votre pull en laine, les petits villages côtiers figés dans le temps et les quartiers col bleu délabrés. On se rappelle aussi de son appétence pour la poésie et le folklore irlandais, toujours pierres angulaires de son écriture poignante. On lui découvre désormais une bluffante science de l’épure. Une épure qui semble parfois presque aride, à la manière de ces grandes étendues de bruyère percées de collines mises à nu par les vents, typique paysage du countryside irlandais, et pourtant loin d’être – aussi – inhospitalière […]', '6. SUFJAN STEVENS – Javelin (ASTHMATIC KITTY RECORDS)', '[extrait] Dire de Javelin, dixième album de Sufjan Stevens, qu’il s’inscrit dans la lignée de Carrie & Lowell, son chef-d’œuvre absolu de 2015 (et album de la décennie pour Magic et ses lecteurs) pourrait presque suffire. Les adorateurs de Sufjan comme ceux qui ne connaissent de lui que ses chansons pour l’oscarisé Call Me by Your Name (2017) sauront qu’ils vont trouver ici, dans ces neuf chansons originales et une reprise (There’s a World de Neil Young, ici chanté à l’os, méconnaissable), ce qu’ils cherchent chez ce génie (pour Sufjan Stevens, le mot n’est pas galvaudé) américain : du folk orchestral, une voix comme un murmure, des chœurs comme un cri, des montagnes russes d’émotions […]', '5. PJ HARVEY – I Inside the Old Year Dying (PARTISAN RECORDS)', '[extrait] De White Chalk, chef-d’œuvre publié en 2007, on retrouve ici la voix haute et parfois fragile, la sobriété des décors, les rais de lumière et les ombres sculptées. On retrouve, se demandant comment un dispositif parfois si ténu parvient à les contenir tous, les tourments intérieurs, l’imagination fertile et la mémoire longue de l’artiste britannique. La langue du Dorset la ramène dans les parages de l’enfance ; elle retrouve le bestiaire sauvage et la lune rousse de ses jeunes années. Les bois touffus, les arbres aux ramures dansantes, la langue argentée de la rivière qui serpente. Ses vagabondages, ses genoux abîmés et ses airs de garçon manqué […]', '4. CAROLINE POLACHEK – Desire, I Want to Turn Into You (PERPETUAL NOVICE)', '[extrait] La folie des nineties semble l’avoir envahie par le biais de sa sortie la plus emblématique, le Ray of Light de Madonna (1998), vendu à 20 millions d’exemplaires. Caroline a usé et abusé du sien, tant les références sont nombreuses sur Desire, I Want to Turn Into You : des nappes synthétiques atmosphériques et hypnotiques, des beats ciselés empruntés au hip-hop, des sons de cloches, une combinaison d’influences allant de l’ambient au trip-hop, en passant par une dance-pop sautillante et optimiste, ainsi qu’une tension soutenue sur tous les morceaux jusqu’au climax. Cet album est une déclaration majeure à couper le souffle, qui sait aussi nous émouvoir […]', '3. SLOWDIVE – everything is alive (DEAD OCEANS)', '[extrait] shanty nous frappe, dès ses premières secondes, par ce mur de son mélangeant le traditionnel drone de guitares sous réverbération vespérale propre à Slowdive à de nombreux synthétiseurs modulaires. C’est peut-être, paradoxalement, le titre le moins relaxant de ce long-format conçu pour insuffler l’espoir et l’élévation, la mélancolie et la réflexion. Parmi ceux qui atteignent le résultat escompté avec une élégance «michelangeline», citons prayer remembered, sublime divagation dénuée de toute vocalise, andalucia plays, mais aussi et surtout chained to a cloud et skin in the game, transformant un album de déjà fort belle facture en monument du shoegaze de ces cinq dernières années […]', '2. YOUNG FATHERS – Heavy Heavy (NINJA TUNE)', '[extrait] Le disque semble plus brut que ses trois prédécesseurs, sans doute parce que les trois amis ont adopté une approche back to basics, en retournant en studio seuls, avec, comme ils nous l’ont brillamment décrit dans l’interview qu’ils nous ont accordée, machines et micros branchés en permanence pour capter leurs étincelles de créativité. «Il faut laisser les démons sortir et s’en occuper après», explique Kayus Bankole. Dont acte : les Young Fathers – ainsi baptisés car tous les trois portent le prénom de leur père – crient, rappent, gémissent, susurrent parfois – comme sur Geronimo, empreint d’énergie mystique […]', '1. BAR ITALIA – Tracey Denim / The Twits (MATADOR RECORDS)', '[extrait] D’un côté, il y a donc Tracey Denim, paru en mai, disque de la prise de lumière d’un trio qui se meut parfaitement dans les ombres, enregistré avec la peur constante de se faire expulser du studio où une magie noire, très noire, était en train d’opérer. De l’autre, The Twits, disponible depuis début novembre, album plus «marécageux», de l’avis même de ses créateurs, mis en boîte sous le soleil (Majorque, en l’espace de deux mois au début de l’année 2023) sans que cela ne le rende vraiment plus lumineux. Dans l’esprit de bar italia, les deux sont différents. Pour nous, ils sont plutôt indissociables […]', \"\\n                RPM, c'est pour Revue Pop Moderne, magazine de référence sur la pop, indispensable depuis 1995. Plus de 30 numéros par an dans votre boîte aux lettres (abonnez-vous à notre newsletter !)\\n            \", 'MAGIC RPM 55B rue de Lyon 75012 Paris', 'Contacter la rédaction']\n",
      "[\"Bienvenue dans la moitié haute de notre Top 101 de 2023 : les 50 premières places. Un classement à retrouver, en version longue et documentée, dans les 184 pages de notre hors-série bilan de l'année.\", 'Retrouvez, dans les 184 pages de notre hors-série 2023, les 101 (!) disques de notre Top albums. Ils sont tous chroniqués et, pour une partie d’entre eux, enrichis de témoignages ou d’interview exclusives. Pour vous le procurer c’est par ici.', 'La première partie du classement (51e à 100e) est disponible ici.', '50. ALBIN DE LA SIMONE – Les Cent Prochaines Années (TÔT OU TARD)', '49. LE CRI DU CAIRE – Le Cri du Caire (LES DISQUES DU FESTIVAL PERMANENT / AIRFONO / L’ONDE & CYBÈLE)', '48. LAURA VEIRS – Phone Orphans (RAVEN MARCHING BAND RECORDS)', '47. ANNA B SAVAGE – in|FLUX (CITY SLANG)', '46. RÓISÍN MURPHY & DJ KOZE – Hit Parade (NINJA TUNE)', '45. HELENA DELAND – Goodnight Summerland (CHIVI CHIVI)', '44. GORILLAZ – Cracker Island (PARLOPHONE RECORDS / WARNER MUSIC)', '43. BOYGENIUS – the record (INTERSCOPE RECORDS)', '42. SLEAFORD MODS – UK GRIM (ROUGH TRADE RECORDS)', '41. LISA O’NEILL – All of This Is Chance (ROUGH TRADE RECORDS)', '___', '40. FOREVER PAVOT – L’Idiophone (BORN BAD RECORDS)', '39. EVERYTHING BUT THE GIRL – Fuse (BUZZIN’ FLY RECORDS / VIRGIN RECORDS)', '38. YOUTH LAGOON – Heaven Is a Junkyard (FAT POSSUM RECORDS)', '37. LUCIE ANTUNES – Carnaval (INFINÉ / CRYBABY)', '36. YO LA TENGO – This Stupid World (MATADOR RECORDS)', '35. KING KRULE – Space Heavy (XL RECORDINGS)', '34. ANIMAL COLLECTIVE – Isn’t It Now? (DOMINO RECORDS)', '33. BLACK COUNTRY, NEW ROAD – Live at Bush Hall (NINJA TUNE)', '32. EN ATTENDANT ANA – Principia (TROUBLE IN MIND RECORDS)', '31. CAT POWER – Cat Power Sings Dylan: The 1966 Royal Albert Hall Concert (DOMINO RECORDS)', '___', '30. JUNGLE – Volcano (CAIOLA RECORDS)', '29. JEAN FELZINE – Chord Memory (CLOSE HARMONIE / ROY MUSIC)', '28. HMTLD – The Worm (LUCKY NUMBER MUSIC)', '27. BC CAMPLIGHT – The Last Rotation of Earth (BELLA UNION / [PIAS])', '26. GEESE – 3D Country (PARTISAN RECORDS)', '25. DEPECHE MODE – Memento Mori (COLUMBIA RECORDS / SONY MUSIC)', '24. CLAIRE REDOR – Fruit mûr (UNE CHOSE SÛRE)', '23. STÉPHANE MILOCHEVITCH – La Bonne Aventure (TALITRES)', '22. BLONDE REDHEAD – Sit Down for Dinner (SECTION1)', '21. JPEGMAFIA X DANNY BROWN – SCARING THE HOES (AWAL)', '___', '20. ÉTIENNE DAHO – Tirer la nuit sur les étoiles (BARCLAY / UNIVERSAL)', '19. BLUR – The Ballad of Darren (PARLOPHONE RECORDS / WARNER MUSIC)', '18. HARP – Albion (BELLA UNION / [PIAS])', '17. THE LEMON TWIGS – Everything Harmony (CAPTURED TRACKS)', '16. POP CRIMES – Gathered Together (HOWLIN BANANA RECORDS / LES DISQUES DU PARADIS / SAFE IN THE RAIN RECORDS)', '15. MITSKI – The Land Is Inhospitable and So Are We (DEAD OCEANS)', '14. AGAR AGAR – Player Non Player (CRACKI RECORDS)', '13. STRUCTURES – A Place for My Hate (AMERICAN / FICTION RECORDS)', '12. SQUID – O Monolith (WARP RECORDS)', '11. THIS IS THE KIT – Careful of Your Keepers (ROUGH TRADE RECORDS)', '___', '10. ONEOHTRIX POINT NEVER – Again (WARP RECORDS)', 'extrait] Un retour à un embranchement qui lui offre l’opportunité de méditer à posteriori sur tous les “what if”, de réécrire son histoire avec des si, et nous régale de fécondes uchronies artistiques. L’approche générale est passionnante ? Le disque ne l’est pas moins (honteux euphémisme) et donne envie de crier des superlatifs à tout-va. Again est inclassable, tant il ne fait que se transformer, souvent plusieurs fois au sein du même morceau. Ambient, progressive electronic, plunderphonics, drone, utopian virtual, sound collage… Tous les genres et sous-genres qu’il a un jour explorés s’y retrouvent. Mais ce qu’on perd en constance, on le gagne en organicité, en amplitude, en technophilie critique […]', '9. MATT ELLIOTT – The End of Days (ICI D’AILLEURS)', 'extrait] C’est sans ambiguïté une musique de procession qui précède une mise en bière. La marche funèbre vers le bout de la falaise, pour reprendre l’image suggérée par Matt Elliott lui-même sur notre comportement collectif suicidaire. Une musique qui prépare au dernier clou. Mais c’est une musique belle à en pleurer : hypnotique, totale, fatale, où le goût pour les minivalses et le piano bienveillant de Barbara Dang œuvrent comme un baume. Le funambulisme de Matt Elliott entre son pessimisme ténébreux et la beauté lumineuse des musiques qui le touchent, qui ont imprégné son cerveau à l’église dès son plus jeune âge comme il nous le raconte dans ce numéro, n’a jamais été aussi magnifiquement proposé qu’ici […]', '8. SPARKLEHORSE – Bird Machine (ANTI- RECORDS)', 'extrait] Aussi paradoxal que cela puisse paraître, Bird Machine s’affirme peut-être comme le disque le plus lumineux de son auteur. On y croise toutefois des berceuses psychotiques comme ce O Child sur le fil du rasoir. “I’ve really come to hate my body and all the things that it requires in this world”, chantait-il dans Maria’s Little Elbows. Les souffrances se sont peut-être apaisées désormais et Mark Linkous nous revient plus vivant que jamais […]', '7. GRIAN CHATTEN – Chaos for the Fly (PARTISAN RECORDS)', 'extrait] De Chatten, on connaissait déjà la voix charismatique, sèche et profonde. Une voix qui, peut-être plus que jamais dans ce Chaos for the Fly, évoque la pluie qui transforme en serpillère votre pull en laine, les petits villages côtiers figés dans le temps et les quartiers col bleu délabrés. On se rappelle aussi de son appétence pour la poésie et le folklore irlandais, toujours pierres angulaires de son écriture poignante. On lui découvre désormais une bluffante science de l’épure. Une épure qui semble parfois presque aride, à la manière de ces grandes étendues de bruyère percées de collines mises à nu par les vents, typique paysage du countryside irlandais, et pourtant loin d’être – aussi – inhospitalière […]', '6. SUFJAN STEVENS – Javelin (ASTHMATIC KITTY RECORDS)', 'extrait] Dire de Javelin, dixième album de Sufjan Stevens, qu’il s’inscrit dans la lignée de Carrie & Lowell, son chef-d’œuvre absolu de 2015 (et album de la décennie pour Magic et ses lecteurs) pourrait presque suffire. Les adorateurs de Sufjan comme ceux qui ne connaissent de lui que ses chansons pour l’oscarisé Call Me by Your Name (2017) sauront qu’ils vont trouver ici, dans ces neuf chansons originales et une reprise (There’s a World de Neil Young, ici chanté à l’os, méconnaissable), ce qu’ils cherchent chez ce génie (pour Sufjan Stevens, le mot n’est pas galvaudé) américain : du folk orchestral, une voix comme un murmure, des chœurs comme un cri, des montagnes russes d’émotions […]', '5. PJ HARVEY – I Inside the Old Year Dying (PARTISAN RECORDS)', 'extrait] De White Chalk, chef-d’œuvre publié en 2007, on retrouve ici la voix haute et parfois fragile, la sobriété des décors, les rais de lumière et les ombres sculptées. On retrouve, se demandant comment un dispositif parfois si ténu parvient à les contenir tous, les tourments intérieurs, l’imagination fertile et la mémoire longue de l’artiste britannique. La langue du Dorset la ramène dans les parages de l’enfance ; elle retrouve le bestiaire sauvage et la lune rousse de ses jeunes années. Les bois touffus, les arbres aux ramures dansantes, la langue argentée de la rivière qui serpente. Ses vagabondages, ses genoux abîmés et ses airs de garçon manqué […]', '4. CAROLINE POLACHEK – Desire, I Want to Turn Into You (PERPETUAL NOVICE)', 'extrait] La folie des nineties semble l’avoir envahie par le biais de sa sortie la plus emblématique, le Ray of Light de Madonna (1998), vendu à 20 millions d’exemplaires. Caroline a usé et abusé du sien, tant les références sont nombreuses sur Desire, I Want to Turn Into You : des nappes synthétiques atmosphériques et hypnotiques, des beats ciselés empruntés au hip-hop, des sons de cloches, une combinaison d’influences allant de l’ambient au trip-hop, en passant par une dance-pop sautillante et optimiste, ainsi qu’une tension soutenue sur tous les morceaux jusqu’au climax. Cet album est une déclaration majeure à couper le souffle, qui sait aussi nous émouvoir […]', '3. SLOWDIVE – everything is alive (DEAD OCEANS)', 'extrait] shanty nous frappe, dès ses premières secondes, par ce mur de son mélangeant le traditionnel drone de guitares sous réverbération vespérale propre à Slowdive à de nombreux synthétiseurs modulaires. C’est peut-être, paradoxalement, le titre le moins relaxant de ce long-format conçu pour insuffler l’espoir et l’élévation, la mélancolie et la réflexion. Parmi ceux qui atteignent le résultat escompté avec une élégance «michelangeline», citons prayer remembered, sublime divagation dénuée de toute vocalise, andalucia plays, mais aussi et surtout chained to a cloud et skin in the game, transformant un album de déjà fort belle facture en monument du shoegaze de ces cinq dernières années […]', '2. YOUNG FATHERS – Heavy Heavy (NINJA TUNE)', 'extrait] Le disque semble plus brut que ses trois prédécesseurs, sans doute parce que les trois amis ont adopté une approche back to basics, en retournant en studio seuls, avec, comme ils nous l’ont brillamment décrit dans l’interview qu’ils nous ont accordée, machines et micros branchés en permanence pour capter leurs étincelles de créativité. «Il faut laisser les démons sortir et s’en occuper après», explique Kayus Bankole. Dont acte : les Young Fathers – ainsi baptisés car tous les trois portent le prénom de leur père – crient, rappent, gémissent, susurrent parfois – comme sur Geronimo, empreint d’énergie mystique […]', '1. BAR ITALIA – Tracey Denim / The Twits (MATADOR RECORDS)', 'extrait] D’un côté, il y a donc Tracey Denim, paru en mai, disque de la prise de lumière d’un trio qui se meut parfaitement dans les ombres, enregistré avec la peur constante de se faire expulser du studio où une magie noire, très noire, était en train d’opérer. De l’autre, The Twits, disponible depuis début novembre, album plus «marécageux», de l’avis même de ses créateurs, mis en boîte sous le soleil (Majorque, en l’espace de deux mois au début de l’année 2023) sans que cela ne le rende vraiment plus lumineux. Dans l’esprit de bar italia, les deux sont différents. Pour nous, ils sont plutôt indissociables […]', \"RPM, c'est pour Revue Pop Moderne, magazine de référence sur la pop, indispensable depuis 1995. Plus de 30 numéros par an dans votre boîte aux lettres (abonnez-vous à notre newsletter !)\\n            \", 'MAGIC RPM 55B rue de Lyon 75012 Paris', 'Contacter la rédaction']\n",
      "[{'rank': '50', 'artist': 'ALBIN DE LA SIMONE', 'title': 'Les Cent Prochaines Années'}, {'rank': '49', 'artist': 'LE CRI DU CAIRE', 'title': 'Le Cri du Caire'}, {'rank': '48', 'artist': 'LAURA VEIRS', 'title': 'Phone Orphans'}, {'rank': '47', 'artist': 'ANNA B SAVAGE', 'title': 'in|FLUX'}, {'rank': '46', 'artist': 'RÓISÍN MURPHY & DJ KOZE', 'title': 'Hit Parade'}, {'rank': '45', 'artist': 'HELENA DELAND', 'title': 'Goodnight Summerland'}, {'rank': '44', 'artist': 'GORILLAZ', 'title': 'Cracker Island'}, {'rank': '43', 'artist': 'BOYGENIUS', 'title': 'the record'}, {'rank': '42', 'artist': 'SLEAFORD MODS', 'title': 'UK GRIM'}, {'rank': '41', 'artist': 'LISA O’NEILL', 'title': 'All of This Is Chance'}, {'rank': '40', 'artist': 'FOREVER PAVOT', 'title': 'L’Idiophone'}, {'rank': '39', 'artist': 'EVERYTHING BUT THE GIRL', 'title': 'Fuse'}, {'rank': '38', 'artist': 'YOUTH LAGOON', 'title': 'Heaven Is a Junkyard'}, {'rank': '37', 'artist': 'LUCIE ANTUNES', 'title': 'Carnaval'}, {'rank': '36', 'artist': 'YO LA TENGO', 'title': 'This Stupid World'}, {'rank': '35', 'artist': 'KING KRULE', 'title': 'Space Heavy'}, {'rank': '34', 'artist': 'ANIMAL COLLECTIVE', 'title': 'Isn’t It Now?'}, {'rank': '33', 'artist': 'BLACK COUNTRY, NEW ROAD', 'title': 'Live at Bush Hall'}, {'rank': '32', 'artist': 'EN ATTENDANT ANA', 'title': 'Principia'}, {'rank': '31', 'artist': 'CAT POWER', 'title': 'Cat Power Sings Dylan: The 1966 Royal Albert Hall Concert'}, {'rank': '30', 'artist': 'JUNGLE', 'title': 'Volcano'}, {'rank': '29', 'artist': 'JEAN FELZINE', 'title': 'Chord Memory'}, {'rank': '28', 'artist': 'HMTLD', 'title': 'The Worm'}, {'rank': '27', 'artist': 'BC CAMPLIGHT', 'title': 'The Last Rotation of Earth'}, {'rank': '26', 'artist': 'GEESE', 'title': '3D Country'}, {'rank': '25', 'artist': 'DEPECHE MODE', 'title': 'Memento Mori'}, {'rank': '24', 'artist': 'CLAIRE REDOR', 'title': 'Fruit mûr'}, {'rank': '23', 'artist': 'STÉPHANE MILOCHEVITCH', 'title': 'La Bonne Aventure'}, {'rank': '22', 'artist': 'BLONDE REDHEAD', 'title': 'Sit Down for Dinner'}, {'rank': '21', 'artist': 'JPEGMAFIA X DANNY BROWN', 'title': 'SCARING THE HOES'}, {'rank': '20', 'artist': 'ÉTIENNE DAHO', 'title': 'Tirer la nuit sur les étoiles'}, {'rank': '19', 'artist': 'BLUR', 'title': 'The Ballad of Darren'}, {'rank': '18', 'artist': 'HARP', 'title': 'Albion'}, {'rank': '17', 'artist': 'THE LEMON TWIGS', 'title': 'Everything Harmony'}, {'rank': '16', 'artist': 'POP CRIMES', 'title': 'Gathered Together'}, {'rank': '15', 'artist': 'MITSKI', 'title': 'The Land Is Inhospitable and So Are We'}, {'rank': '14', 'artist': 'AGAR AGAR', 'title': 'Player Non Player'}, {'rank': '13', 'artist': 'STRUCTURES', 'title': 'A Place for My Hate'}, {'rank': '12', 'artist': 'SQUID', 'title': 'O Monolith'}, {'rank': '11', 'artist': 'THIS IS THE KIT', 'title': 'Careful of Your Keepers'}, {'rank': '10', 'artist': 'ONEOHTRIX POINT NEVER', 'title': 'Again'}, {'rank': '9', 'artist': 'MATT ELLIOTT', 'title': 'The End of Days'}, {'rank': '8', 'artist': 'SPARKLEHORSE', 'title': 'Bird Machine'}, {'rank': '7', 'artist': 'GRIAN CHATTEN', 'title': 'Chaos for the Fly'}, {'rank': '6', 'artist': 'SUFJAN STEVENS', 'title': 'Javelin'}, {'rank': '5', 'artist': 'PJ HARVEY', 'title': 'I Inside the Old Year Dying'}, {'rank': '4', 'artist': 'CAROLINE POLACHEK', 'title': 'Desire, I Want to Turn Into You'}, {'rank': '3', 'artist': 'SLOWDIVE', 'title': 'everything is alive'}, {'rank': '2', 'artist': 'YOUNG FATHERS', 'title': 'Heavy Heavy'}, {'rank': '1', 'artist': 'BAR ITALIA', 'title': 'Tracey Denim / The Twits'}]\n",
      "[{'rank': '50', 'artist': 'ALBIN DE LA SIMONE', 'title': 'Les Cent Prochaines Années'}, {'rank': '49', 'artist': 'LE CRI DU CAIRE', 'title': 'Le Cri du Caire'}, {'rank': '48', 'artist': 'LAURA VEIRS', 'title': 'Phone Orphans'}, {'rank': '47', 'artist': 'ANNA B SAVAGE', 'title': 'in|FLUX'}, {'rank': '46', 'artist': 'RÓISÍN MURPHY & DJ KOZE', 'title': 'Hit Parade'}, {'rank': '45', 'artist': 'HELENA DELAND', 'title': 'Goodnight Summerland'}, {'rank': '44', 'artist': 'GORILLAZ', 'title': 'Cracker Island'}, {'rank': '43', 'artist': 'BOYGENIUS', 'title': 'the record'}, {'rank': '42', 'artist': 'SLEAFORD MODS', 'title': 'UK GRIM'}, {'rank': '41', 'artist': 'LISA O’NEILL', 'title': 'All of This Is Chance'}, {'rank': '40', 'artist': 'FOREVER PAVOT', 'title': 'L’Idiophone'}, {'rank': '39', 'artist': 'EVERYTHING BUT THE GIRL', 'title': 'Fuse'}, {'rank': '38', 'artist': 'YOUTH LAGOON', 'title': 'Heaven Is a Junkyard'}, {'rank': '37', 'artist': 'LUCIE ANTUNES', 'title': 'Carnaval'}, {'rank': '36', 'artist': 'YO LA TENGO', 'title': 'This Stupid World'}, {'rank': '35', 'artist': 'KING KRULE', 'title': 'Space Heavy'}, {'rank': '34', 'artist': 'ANIMAL COLLECTIVE', 'title': 'Isn’t It Now?'}, {'rank': '33', 'artist': 'BLACK COUNTRY, NEW ROAD', 'title': 'Live at Bush Hall'}, {'rank': '32', 'artist': 'EN ATTENDANT ANA', 'title': 'Principia'}, {'rank': '31', 'artist': 'CAT POWER', 'title': 'Cat Power Sings Dylan: The 1966 Royal Albert Hall Concert'}, {'rank': '30', 'artist': 'JUNGLE', 'title': 'Volcano'}, {'rank': '29', 'artist': 'JEAN FELZINE', 'title': 'Chord Memory'}, {'rank': '28', 'artist': 'HMTLD', 'title': 'The Worm'}, {'rank': '27', 'artist': 'BC CAMPLIGHT', 'title': 'The Last Rotation of Earth'}, {'rank': '26', 'artist': 'GEESE', 'title': '3D Country'}, {'rank': '25', 'artist': 'DEPECHE MODE', 'title': 'Memento Mori'}, {'rank': '24', 'artist': 'CLAIRE REDOR', 'title': 'Fruit mûr'}, {'rank': '23', 'artist': 'STÉPHANE MILOCHEVITCH', 'title': 'La Bonne Aventure'}, {'rank': '22', 'artist': 'BLONDE REDHEAD', 'title': 'Sit Down for Dinner'}, {'rank': '21', 'artist': 'JPEGMAFIA X DANNY BROWN', 'title': 'SCARING THE HOES'}, {'rank': '20', 'artist': 'ÉTIENNE DAHO', 'title': 'Tirer la nuit sur les étoiles'}, {'rank': '19', 'artist': 'BLUR', 'title': 'The Ballad of Darren'}, {'rank': '18', 'artist': 'HARP', 'title': 'Albion'}, {'rank': '17', 'artist': 'THE LEMON TWIGS', 'title': 'Everything Harmony'}, {'rank': '16', 'artist': 'POP CRIMES', 'title': 'Gathered Together'}, {'rank': '15', 'artist': 'MITSKI', 'title': 'The Land Is Inhospitable and So Are We'}, {'rank': '14', 'artist': 'AGAR AGAR', 'title': 'Player Non Player'}, {'rank': '13', 'artist': 'STRUCTURES', 'title': 'A Place for My Hate'}, {'rank': '12', 'artist': 'SQUID', 'title': 'O Monolith'}, {'rank': '11', 'artist': 'THIS IS THE KIT', 'title': 'Careful of Your Keepers'}, {'rank': '10', 'artist': 'ONEOHTRIX POINT NEVER', 'title': 'Again'}, {'rank': '9', 'artist': 'MATT ELLIOTT', 'title': 'The End of Days'}, {'rank': '8', 'artist': 'SPARKLEHORSE', 'title': 'Bird Machine'}, {'rank': '7', 'artist': 'GRIAN CHATTEN', 'title': 'Chaos for the Fly'}, {'rank': '6', 'artist': 'SUFJAN STEVENS', 'title': 'Javelin'}, {'rank': '5', 'artist': 'PJ HARVEY', 'title': 'I Inside the Old Year Dying'}, {'rank': '4', 'artist': 'CAROLINE POLACHEK', 'title': 'Desire, I Want to Turn Into You'}, {'rank': '3', 'artist': 'SLOWDIVE', 'title': 'everything is alive'}, {'rank': '2', 'artist': 'YOUNG FATHERS', 'title': 'Heavy Heavy'}, {'rank': '1', 'artist': 'BAR ITALIA', 'title': 'Tracey Denim / The Twits'}]\n"
     ]
    }
   ],
   "source": [
    "# json_params = json.dumps(params)\n",
    "# keys = list(params.keys())\n",
    "# for key in keys[4:4]:    \n",
    "#     urls = params[key][\"urls\"]\n",
    "#     regex = params[key][\"regex\"]\n",
    "#     artist_first = params[key][\"artist_first\"]\n",
    "#     soup = params[key][\"soup\"]\n",
    "#     data = extract_spectrum(urls, soup, regex, artist_first)\n",
    "#     df = create_dataframe(data,'uuid')\n",
    "#     ret = add_ranking(key, params[key][\"name\"], params[key][\"title\"], urls[0], params[key][\"style\"], params[key][\"year\"],params[key][\"date\"],params[key][\"language\"])\n",
    "#     df['id_ranking'] = key\n",
    "#     save_to_sqlite(df)\n",
    "#     print(df)\n",
    "\n",
    "# 0. Supprimer le classement\n",
    "#delete_ranking('https://www.nme.com/photos/the-500-greatest-albums-of-all-time-100-1-1426116')\n",
    "# 1. Récupérer les informations brutes depuis le site web\n",
    "#data = extract_data_from_url(\"https://www.nme.com/photos/the-500-greatest-albums-of-all-time-100-1-1426116\", \"h2\")\n",
    "#data = extract_data_from_url(\"https://www.nme.com/photos/the-500-greatest-albums-of-all-time-200-101-1426258\", \"h2\")\n",
    "#data = extract_data_from_url(\"https://www.nme.com/photos/the-500-greatest-albums-of-all-time-300-201-1426482\", \"h2\")\n",
    "#data = extract_data_from_url(\"https://www.nme.com/photos/the-500-greatest-albums-of-all-time-400-301-1426436\", \"h2\")\n",
    "#data = extract_data_from_url(\"https://www.nme.com/photos/the-500-greatest-albums-of-all-time-500-401-1426363\", \"h2\")\n",
    "#data = extract_data_from_url(\"https://consequence.net/2022/09/best-albums-all-time-list/22/\", \"h2\")\n",
    "data = extract_data_from_url(\"https://www.magicrpm.com/les-100-meilleurs-albums-de-2023-n50-a-n1/\", \"p\")\n",
    "print(data)\n",
    "# 2. Nettoyer les données\n",
    "data_clean = clean_data(data)\n",
    "print(data_clean)\n",
    "# 3. Extraire les données de la liste (rank, artist, title)\n",
    "data_extract = extract_data(data_clean)\n",
    "print(data_extract)\n",
    "# 4. Contrôle la position des données dans la liste\n",
    "if (len(data_extract) == 50) :\n",
    "    # 4. Créer le classement dans la base de données\n",
    "    id = add_ranking('Magic', 'Les 101 meilleurs albums de 2023', 'https://www.magicrpm.com/les-100-meilleurs-albums-de-2023-n50-a-n1/', '', '2023', '29/12/2023', 'fr')\n",
    "    df = create_dataframe(data_extract,id)\n",
    "    #df = create_dataframe(data_extract,\"5cced476-cbcb-4829-a110-1bd03ec1fb0c\")\n",
    "    # Convert rank to integer\n",
    "    #df['rank'] = df['rank'].astype(int)\n",
    "    # invert ranking and add 100\n",
    "    #df['rank'] = 101 - df['rank'].astype(int)+400\n",
    "    save_to_sqlite(df)\n",
    "    print(data_extract)\n",
    "else : \n",
    "    print(\"Erreur dans la récupération des données\")\n",
    "\n"
   ]
  }
 ],
 "metadata": {
  "kernelspec": {
   "display_name": "Python 3",
   "language": "python",
   "name": "python3"
  },
  "language_info": {
   "codemirror_mode": {
    "name": "ipython",
    "version": 3
   },
   "file_extension": ".py",
   "mimetype": "text/x-python",
   "name": "python",
   "nbconvert_exporter": "python",
   "pygments_lexer": "ipython3",
   "version": "3.11.6"
  }
 },
 "nbformat": 4,
 "nbformat_minor": 2
}
