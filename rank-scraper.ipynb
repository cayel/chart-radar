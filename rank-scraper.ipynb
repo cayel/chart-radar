{
 "cells": [
  {
   "cell_type": "markdown",
   "metadata": {},
   "source": [
    "# Rank Scraper\n",
    "\n",
    "Ce programme permet d'extraire les données d'un site web qui a publié un classement musical. Les données alimentent la base sqlite database.db dans le sous répertoire data."
   ]
  },
  {
   "cell_type": "markdown",
   "metadata": {},
   "source": [
    "### TODO\n",
    "- Gothic\n",
    "  - Kerrang! : https://www.kerrang.com/the-16-essential-goth-albums-you-need-to-know\n",
    "    - no rank\n",
    "- Indie Rock\n",
    "  - https://www.melophobemusic.com/post/top-100-greatest-indie-rock-albums-of-all-time"
   ]
  },
  {
   "cell_type": "code",
   "execution_count": 91,
   "metadata": {},
   "outputs": [
    {
     "name": "stdout",
     "output_type": "stream",
     "text": [
      "Requirement already satisfied: pandas in /Users/christopheayel/Library/Python/3.11/lib/python/site-packages (2.2.1)\n",
      "Requirement already satisfied: numpy<2,>=1.23.2 in /Library/Frameworks/Python.framework/Versions/3.11/lib/python3.11/site-packages (from pandas) (1.26.4)\n",
      "Requirement already satisfied: python-dateutil>=2.8.2 in /Users/christopheayel/Library/Python/3.11/lib/python/site-packages (from pandas) (2.8.2)\n",
      "Requirement already satisfied: pytz>=2020.1 in /Library/Frameworks/Python.framework/Versions/3.11/lib/python3.11/site-packages (from pandas) (2024.1)\n",
      "Requirement already satisfied: tzdata>=2022.7 in /Library/Frameworks/Python.framework/Versions/3.11/lib/python3.11/site-packages (from pandas) (2024.1)\n",
      "Requirement already satisfied: six>=1.5 in /Users/christopheayel/Library/Python/3.11/lib/python/site-packages (from python-dateutil>=2.8.2->pandas) (1.16.0)\n",
      "\n",
      "\u001b[1m[\u001b[0m\u001b[34;49mnotice\u001b[0m\u001b[1;39;49m]\u001b[0m\u001b[39;49m A new release of pip is available: \u001b[0m\u001b[31;49m23.2.1\u001b[0m\u001b[39;49m -> \u001b[0m\u001b[32;49m24.0\u001b[0m\n",
      "\u001b[1m[\u001b[0m\u001b[34;49mnotice\u001b[0m\u001b[1;39;49m]\u001b[0m\u001b[39;49m To update, run: \u001b[0m\u001b[32;49mpython3 -m pip install --upgrade pip\u001b[0m\n",
      "Note: you may need to restart the kernel to use updated packages.\n"
     ]
    }
   ],
   "source": [
    "pip install pandas\n"
   ]
  },
  {
   "cell_type": "code",
   "execution_count": 92,
   "metadata": {},
   "outputs": [],
   "source": [
    "params = { \n",
    "    \"efe220cb-4981-40c7-8a6b-bd89b3569a17\":  { \n",
    "        #10. Juju – Siouxsie and The Banshees\n",
    "        \"urls\" : [\n",
    "            \"https://faroutmagazine.co.uk/the-10-greatest-goth-albums-of-all-time/\"\n",
    "        ],\n",
    "        \"regex\" : r'(\\d+)[.,]\\s(.+?)\\s?[–-]\\s(.*?)(?:\\s\\(.*\\))?$',\n",
    "        \"soup\" : 'h3',\n",
    "        \"artist_first\" : False,\n",
    "        \"name\" : \"Far Out\",\n",
    "        \"title\" : \"The 10 greatest goth albums of all time\",\n",
    "        \"style\" : \"Gothic\",\n",
    "        \"year\" : \"\",\n",
    "        \"date\" : \"22/05/2023\",\n",
    "        \"language\" : \"en\"\n",
    "    },\n",
    "    \"b2065bc7-68e3-4c64-878f-3700735126dd\":  { \n",
    "        #13. Red Lorry Yellow Lorry – Talk About the Weather (1985, Red Rhino)\n",
    "        \"urls\" : [\n",
    "            \"https://www.brooklynvegan.com/classic-goths-13-greatest-albums/\"\n",
    "        ],\n",
    "        \"regex\" : r'(\\d+)[.,]\\s(.+?)\\s?[–-]\\s(.*?)(?:\\s\\(.*\\))?$',\n",
    "        \"soup\" : 'strong',\n",
    "        \"artist_first\" : True,\n",
    "        \"name\" : \"Brooklyn Vegan\",\n",
    "        \"title\" : \"Classic Goth's 13 Greatest Albums\",\n",
    "        \"style\" : \"Gothic\",\n",
    "        \"year\" : \"\",\n",
    "        \"date\" : \"30/10/2020\",\n",
    "        \"language\" : \"en\"\n",
    "    },\n",
    "    \"116cbcd5-8721-49cb-8d1b-3cb897d8f338\":  { \n",
    "        #1. Joy Division- Closer (Factory, 1980) \n",
    "        \"urls\" : [\n",
    "            \"https://post-punk.com/40-years-of-goth-essential-albums-from-the-genres-beginnings/\"\n",
    "        ],\n",
    "        \"regex\" : r'(\\d+)[.,]\\s(.+?)\\s?[–-]\\s(.*?)(?:\\s\\(.*\\))?$',\n",
    "        \"soup\" : 'strong',\n",
    "        \"artist_first\" : True,\n",
    "        \"name\" : \"Post-punk.com\",\n",
    "        \"title\" : \"40 Years of Goth: Essential Albums from the Subculture’s Beginnings\",\n",
    "        \"style\" : \"Gothic\",\n",
    "        \"year\" : \"\",\n",
    "        \"date\" : \"31/10/2017\",\n",
    "        \"language\" : \"en\"\n",
    "    },\n",
    "    \"23d66e91-6dd9-4e1f-97db-984526ccc449\":  { \n",
    "        #10. Franz Ferdinand de Franz Ferdinand (2004) \n",
    "        \"urls\" : [\n",
    "            \"https://www.gqmagazine.fr/article/meilleurs-albums-indie-rock\"\n",
    "        ],\n",
    "        \"regex\" : r'(\\d+)\\.\\s(.*?)\\s(?:de|des)\\s(.*?)\\s\\((\\d+)\\)',\n",
    "        \"soup\" : 'h2',\n",
    "        \"artist_first\" : False,\n",
    "        \"name\" : \"GQ Magazine\",\n",
    "        \"title\" : \"Les 10 meilleurs albums d'indie rock de tous les temps\",\n",
    "        \"style\" : \"Indie Rock\",\n",
    "        \"year\" : \"\",\n",
    "        \"date\" : \"02/10/2023\",\n",
    "        \"language\" : \"fr\"\n",
    "    },\n",
    "    \"598ec7bb-043e-4fa6-b1e4-8e654571c961\":  {  \n",
    "        \"urls\" : [\n",
    "            \"https://www.nme.com/photos/the-500-greatest-albums-of-all-time-100-1-1426116\"\n",
    "        ],\n",
    "        \"regex\" :  r\"^(\\d+)([^,'']+)[,']?\\s*(.*?)'?$\",\n",
    "        \"soup\" : 'h2',\n",
    "        \"artist_first\" : True,\n",
    "        \"name\" : \"NME\",\n",
    "        \"title\" : \"The 500 Greatest Albums Of All Time\",\n",
    "        \"style\" : \"\",\n",
    "        \"year\" : \"\",\n",
    "        \"date\" : \"25/10/2013\",\n",
    "        \"language\" : \"en\"\n",
    "    },\n",
    "    \"598ec7bb-043e-4fa6-b1e4-8e654571c961\":  {  \n",
    "        \"urls\" : [\n",
    "            \"https://www.nme.com/photos/the-500-greatest-albums-of-all-time-200-101-1426258\"\n",
    "        ],\n",
    "        \"regex\" :  r\"^(\\d+)([^,'']+)[,']?\\s*(.*?)'?$\",\n",
    "        \"soup\" : 'h2',\n",
    "        \"artist_first\" : True,\n",
    "        \"name\" : \"NME\",\n",
    "        \"title\" : \"The 500 Greatest Albums Of All Time\",\n",
    "        \"style\" : \"\",\n",
    "        \"year\" : \"\",\n",
    "        \"date\" : \"25/10/2013\",\n",
    "        \"language\" : \"en\"\n",
    "    }\n",
    "}"
   ]
  },
  {
   "cell_type": "code",
   "execution_count": 93,
   "metadata": {},
   "outputs": [],
   "source": [
    "import requests\n",
    "from bs4 import BeautifulSoup\n",
    "import pandas as pd\n",
    "import requests\n",
    "from bs4 import BeautifulSoup\n",
    "import pandas as pd\n",
    "import re\n",
    "import sqlite3\n",
    "from datetime import datetime\n",
    "import uuid\n",
    "import html\n",
    "import time\n",
    "import json"
   ]
  },
  {
   "cell_type": "code",
   "execution_count": 94,
   "metadata": {},
   "outputs": [],
   "source": [
    "def is_title(string):\n",
    "    if string[0].isdigit():\n",
    "        return True\n",
    "    return False"
   ]
  },
  {
   "cell_type": "code",
   "execution_count": 95,
   "metadata": {},
   "outputs": [],
   "source": [
    "# Liste d'URLs à traiter\n",
    "url_list = ['https://spectrumculture.com/2013/03/21/13-best-goth-albums-of-all-time/',\n",
    "'https://spectrumculture.com/2013/03/21/13-best-goth-albums-of-all-time/2', \n",
    "        'https://spectrumculture.com/2013/03/21/13-best-goth-albums-of-all-time/3']"
   ]
  },
  {
   "cell_type": "code",
   "execution_count": 96,
   "metadata": {},
   "outputs": [],
   "source": [
    "def fetch_url(url):\n",
    "    # Create a session\n",
    "    session = requests.Session()\n",
    "\n",
    "    # Change the user agent and add Referer header\n",
    "    headers = {\n",
    "        'User-Agent': 'Mozilla/5.0 (Windows NT 10.0; Win64; x64) AppleWebKit/537.36 (KHTML, like Gecko) Chrome/58.0.3029.110 Safari/537.3',\n",
    "        'Referer': 'http://www.google.com/'\n",
    "    }\n",
    "\n",
    "    response = session.get(url, headers=headers)\n",
    "    if response.status_code == 200:\n",
    "        return response.text\n",
    "    else:\n",
    "        print(f\"Erreur lors de la récupération de la page. Code d'erreur : {response.status_code}\")\n",
    "        return None\n",
    "\n",
    "    # Delay between requests\n",
    "    time.sleep(1)"
   ]
  },
  {
   "cell_type": "code",
   "execution_count": 97,
   "metadata": {},
   "outputs": [],
   "source": [
    "def parse_html(html, soup_string):\n",
    "    soup = BeautifulSoup(html, 'html.parser')\n",
    "    bold_titles = soup.find_all(soup_string)\n",
    "    return bold_titles"
   ]
  },
  {
   "cell_type": "code",
   "execution_count": 98,
   "metadata": {},
   "outputs": [],
   "source": [
    "def extract_data_from_title(title, regex_string, artist_first):\n",
    "    title_string = title.get_text()\n",
    "    title_string = re.sub(r'^\\W+', '', title_string)  # Remove special characters and spaces from the left\n",
    "    title_string = html.unescape(title_string)  # Convert HTML entities to normal characters\n",
    "    print(title_string)\n",
    "    if is_title(title_string):\n",
    "        match = re.match(regex_string, title_string)\n",
    "        if match:\n",
    "            rank = match.group(1)\n",
    "            if (artist_first):\n",
    "                artist = match.group(2)\n",
    "                title = match.group(3)\n",
    "            else :\n",
    "                title = match.group(2)\n",
    "                artist = match.group(3)\n",
    "            return {'rank': rank, 'artist': artist, 'title': title}\n",
    "        else:\n",
    "            print(f\"Failed to extract data from title: {title_string}\")\n",
    "            return None\n",
    "    else:\n",
    "        return None"
   ]
  },
  {
   "cell_type": "code",
   "execution_count": 99,
   "metadata": {},
   "outputs": [],
   "source": [
    "def create_dataframe(data_list, id):\n",
    "    df = pd.DataFrame(data_list)\n",
    "    df['id_ranking'] = id\n",
    "    return df"
   ]
  },
  {
   "cell_type": "code",
   "execution_count": 100,
   "metadata": {},
   "outputs": [],
   "source": [
    "def extract_spectrum(url_list, soup, string_regex, artist_first):\n",
    "    data = []\n",
    "    for url in url_list:\n",
    "        html = fetch_url(url)\n",
    "        if html:\n",
    "            bold_titles = parse_html(html, soup)\n",
    "            for title in bold_titles:\n",
    "                data_item = extract_data_from_title(title, string_regex, artist_first)\n",
    "                if data_item:\n",
    "                    data.append(data_item)\n",
    "    return data\n"
   ]
  },
  {
   "cell_type": "code",
   "execution_count": 101,
   "metadata": {},
   "outputs": [],
   "source": [
    "# Create a connection to the SQLite database\n",
    "# Doesn't matter if the database doesn't yet exist\n",
    "def save_to_sqlite(df):\n",
    "    conn = sqlite3.connect('./data/database.db')\n",
    "    df.to_sql('album', conn, if_exists='append', index=False)\n",
    "    conn.close()\n"
   ]
  },
  {
   "cell_type": "code",
   "execution_count": 102,
   "metadata": {},
   "outputs": [],
   "source": [
    "def add_ranking(name, description, url, style, year, date, language):\n",
    "    # Create a connection to the SQLite database\n",
    "    conn = sqlite3.connect('./data/database.db')\n",
    "    cursor = conn.cursor()\n",
    "\n",
    "    # Check if ranking with same url already exists\n",
    "    cursor.execute(\"SELECT id FROM ranking WHERE url = ?\", (url,))\n",
    "    data = cursor.fetchone()\n",
    "    if data:\n",
    "        # ranking already exists\n",
    "        conn.close()\n",
    "        return -1\n",
    "    \n",
    "    # Generate a unique ID\n",
    "    guid = str(uuid.uuid4())\n",
    "    \n",
    "    # Define the insert query\n",
    "    query = \"\"\"\n",
    "    INSERT INTO ranking (id, name, description, url, style, year, date, language, created_date)\n",
    "    VALUES (?, ?, ?, ?, ?, ?, ?, ?, ?)\n",
    "    \"\"\"\n",
    "    # Define the record to insert\n",
    "    record = (guid, name, description, url, style, year, date, language, datetime.now())\n",
    "\n",
    "    # Execute the query\n",
    "    cursor.execute(query, record)\n",
    "\n",
    "    # Commit the transaction and close the connection\n",
    "    conn.commit()\n",
    "    conn.close()\n",
    "\n",
    "    return guid"
   ]
  },
  {
   "cell_type": "code",
   "execution_count": 103,
   "metadata": {},
   "outputs": [],
   "source": [
    "def delete_ranking(url) :\n",
    "    conn = sqlite3.connect('./data/database.db')\n",
    "    cursor = conn.cursor()\n",
    "    # Get the ranking ID \n",
    "    cursor.execute(\"SELECT id FROM ranking WHERE url = ?\", (url,))\n",
    "    data = cursor.fetchone()\n",
    "    if data:\n",
    "        ranking_id = data[0]\n",
    "        # Delete the ranking\n",
    "        cursor.execute(\"DELETE FROM ranking WHERE url = ?\", (url,))\n",
    "        # Delete the albums\n",
    "        cursor.execute(\"DELETE FROM albums WHERE id_ranking = ?\", (ranking_id,))\n",
    "        conn.commit()\n",
    "        conn.close()\n",
    "        return 0\n",
    "    else:\n",
    "        return -1"
   ]
  },
  {
   "cell_type": "code",
   "execution_count": 104,
   "metadata": {},
   "outputs": [],
   "source": [
    "def add_ranking_spectrum_gothic():\n",
    "    data=extract_spectrum(url_list)\n",
    "    id = add_ranking('Spectrum Culture', 'The 13 Best Goth Albums of All Time', 'https://spectrumculture.com/2013/03/21/13-best-goth-albums-of-all-time/', 'Gothic','')\n",
    "    df = create_dataframe(data,id)\n",
    "    save_to_sqlite(df)"
   ]
  },
  {
   "cell_type": "code",
   "execution_count": 105,
   "metadata": {},
   "outputs": [],
   "source": [
    "def extract_data_from_url(url, balise_html) :\n",
    "    data = []  \n",
    "    html = fetch_url(url)\n",
    "    if html:\n",
    "        titles = parse_html(html, balise_html)\n",
    "        for title in titles:\n",
    "            data.append(title.get_text())\n",
    "    return data"
   ]
  },
  {
   "cell_type": "code",
   "execution_count": 106,
   "metadata": {},
   "outputs": [],
   "source": [
    "def clean_data(data):\n",
    "    data = [re.sub(r'^\\W+', '', title) for title in data]\n",
    "    data = [html.unescape(title) for title in data]\n",
    "    #data = [title.replace(',', '') for title in data]\n",
    "    #data = [title.replace(\"‘\", ',') for title in data]    \n",
    "    return data"
   ]
  },
  {
   "cell_type": "code",
   "execution_count": 107,
   "metadata": {},
   "outputs": [],
   "source": [
    "def extract_data(data):\n",
    "    extracted_data = []\n",
    "    for title in data:\n",
    "        match = re.match(r'(\\d+)\\.\\s(.*?)\\s–\\s(.*?)\\s\\(.*\\)$', title)\n",
    "        if match:\n",
    "            rank = match.group(1)\n",
    "            artist = match.group(2)\n",
    "            title = match.group(3)\n",
    "            extracted_data.append({'rank': rank, 'artist': artist, 'title': title})\n",
    "    return extracted_data\n"
   ]
  },
  {
   "cell_type": "code",
   "execution_count": null,
   "metadata": {},
   "outputs": [],
   "source": []
  },
  {
   "cell_type": "markdown",
   "metadata": {},
   "source": [
    "## Programme principal"
   ]
  },
  {
   "cell_type": "code",
   "execution_count": 108,
   "metadata": {},
   "outputs": [
    {
     "name": "stdout",
     "output_type": "stream",
     "text": [
      "[\"Voici le Top des 100 meilleurs disques de l'année selon la rédaction de Magic. Un classement à retrouver, en version longue et documentée, dans les 204 pages de notre hors-série bilan de l'année.\", 'La rédaction de Magic publie aujourd’hui son classement des 100 meilleurs disques de l’année 2022. Suivant l’envie de nos fidèles abonnés, nous avons quasiment attendu la dernière minute pour cette mise en ligne afin de leur laisser la primeur d’une dégustation toute personnelle de ce classement, page après page, dès la réception de notre hors-série dédié.', 'Comme tous les ans, ce Top 100 est injuste pour tous ceux qui n’y sont pas : en 2022, dans l’hebdo ou dans le trimestriel, Magic a recommandé l’écoute d’environ 500 nouveautés pop, rock, folk, électro, chanson, rap, néoclassique, ambient et autres ramifications de la musique populaire enregistrée d’avant-garde, de France et d’ailleurs.', 'Notre numéro un – nous vous laissons aussi le découvrir en remontant le fil de ce classement en ligne – s’est imposé dans la dernière ligne droite, à force d’écoutes addictives d’une bonne partie de l’équipe et l’évidence d’un univers d’une splendide modernité électro-pop.', 'Vous pouvez toujours commander ce numéro ici. Les cent disques ont droit à leur chronique dans les 204 pages de notre hors-série. 100 places, 100 chroniques, des entretiens et analyses longs formats ou encore l’année à emporter en short lists… ', 'Vous y trouverez aussi le classement des lecteurs, que nous allons publier d’ici la fin de l’année, avec quelques classements individuels de nos plumes ainsi qu’une playlist resserrée pour célébrer 2022, année bénie du retour de Magic dans nos vies. Pour rejoindre cette communauté de passionnés, c’est ici.', '100. C. TANGANA – El Madrileño (La Sobremesa) (SONY MUSIC)', '99. FRANKIE COSMOS – Inner World Peace (SUB POP RECORDS)', '98. EGGS – A Glitter Year (HOWLIN BANANA RECORDS / SAFE IN THE RAIN RECORDS)', '97. BLACK OX ORKESTAR – Everything Returns (CONSTELLATION RECORDS)', '96. EMBRASSE MOI – Grand écart (TFT LABEL)', '95. JULIA, JULIA – Derealization (SUICIDE SQUEEZE RECORDS)', '94. BOPS – Sounds of Parade (LE CÈPE RECORDS)', '93. JOHNNIE CARWASH – Teenage Ends (HOWLIN BANANA RECORDS)', '92. GUADAL TEJAZ – Noche Triste (BEAST RECORDS / CRÈME BRÛLÉE RECORDS / LA NEF D FOUS)', '91. FONTANAROSA – Are You There ? (HOWLIN BANANA RECORDS)', '___', '90. OISEAUX-TEMPÊTE – WHAT ON EARTH (Que Diable) (SUB ROSA / NAHAL RECORDINGS)', '89. MICAH P. HINSON – I Lie to You (PONDEROSA MUSIC)', '88. BERTRAND BELIN – Tambour Vision (CINQ7)', '87. KOKI NAKANO – Oceanic Feeling (NO FORMAT)', '86. JB DUNCKEL – Carbon (PROTOTYP RECORDING)', '85. DRUGDEALER – Hiding in Plain Sight (MEXICAN SUMMER)', '84. ΣTELLA – Up and Away (SUB POP RECORDS)', '83. THE COOL GREENHOUSE – Sod’s Toastie (MELODIC RECORDS)', '82. HOT CHIP – Freakout/Release (DOMINO RECORDS)', '81. ALELA DIANE – Looking Glass (NAÏVE RECORDS)', '___', '80. AND ALSO THE TREES – The Bone Carver (AATT)', '79. CASS MCCOMBS – Heartmind (ANTI- RECORDS)', '78. LNDFK – Kuni (BASTARD JAZZ RECORDINGS)', '77. ROSE MERCIE – ¿KIERES AGUA? (JELODANTI RECORDS / CELLULOID LUNCH)', '76. WARHAUS – Ha Ha Heartbreak ([PIAS])', '75. SILVERBACKS – Archive Material (FULL TIME HOBBY)', '74. NNAMDÏ – Please Have a Seat (SECRETLY CANADIAN / SOOPER RECORDS)', '73. TOM SKINNER – Voices of Bishara (BROWNSWOOD RECORDINGS)', '72. BIG THIEF – Dragon New Warm Mountain I Believe in You (4AD)', '71. BRACE ! BRACE ! – Care (HOWLIN BANANA RECORDS)', '___', '70. JULIEN GASC – Re Eff (CORPS DOUBLE)', '69. DESTROYER – LABYRINTHITIS (BELLA UNION / [PIAS])', '68. SHARON VAN ETTEN – We’ve Been Going About This All Wrong (JAGJAGUWAR)', '67. SESSA – Estrela Acesa (MEXICAN SUMMER)', '66. PHOENIX – Alpha Zulu (LOYAUTÉ / GLASSNOTE RECORDS / A+LSO)', '65. JACQUES – LIMPORTANCEDUVIDE (RECHERCHE & DÉVELOPPEMENT)', '64. CATE LE BON – Pompeii (MEXICAN SUMMER)', '63. EVE ADAMS – Metal Bird (BASIN ROCK)', '62. ALEX G – God Save the Animals (DOMINO RECORDS)', '61. COURTING – Guitar Music ([PIAS])', '___', '60. LESNEU – Ce qui ne vient jamais vraiment (MUSIC FROM THE MASSES / [PIAS])', '59. BESS OF BEDLAM – Dance Until the Crimes End (ANOTHER RECORD / DUR ET DOUX)', '58. MARINA ALLEN – Centrifics (FIRE RECORDS)', '57. WILCO – Cruel Country (DBPM RECORDS)', '56. TH DA FREAK – Coyote (HOWLIN BANANA RECORDS)', '55. DANA GAVANSKI – When It Comes (FULL TIME HOBBY)', '54. TESS PARKS – And Those Who Were Seen Dancing (FUZZ CLUB RECORDS)', '53. SORRY – Anywhere but Here (DOMINO RECORDS)', '52. FATHER JOHN MISTY – Chloë and the Next 20th Century (BELLA UNION / [PIAS])', '51. BLACK MIDI – Hellfire (ROUGH TRADE RECORDS)', '___', 'LA DEUXIÈME PARTIE DU TOP,\\xa0C’EST PAR ICI.', \"\\n                RPM, c'est pour Revue Pop Moderne, magazine de référence sur la pop, indispensable depuis 1995. Plus de 30 numéros par an dans votre boîte aux lettres (abonnez-vous à notre newsletter !)\\n            \", 'MAGIC RPM 55B rue de Lyon 75012 Paris', 'Contacter la rédaction']\n",
      "[\"Voici le Top des 100 meilleurs disques de l'année selon la rédaction de Magic. Un classement à retrouver, en version longue et documentée, dans les 204 pages de notre hors-série bilan de l'année.\", 'La rédaction de Magic publie aujourd’hui son classement des 100 meilleurs disques de l’année 2022. Suivant l’envie de nos fidèles abonnés, nous avons quasiment attendu la dernière minute pour cette mise en ligne afin de leur laisser la primeur d’une dégustation toute personnelle de ce classement, page après page, dès la réception de notre hors-série dédié.', 'Comme tous les ans, ce Top 100 est injuste pour tous ceux qui n’y sont pas : en 2022, dans l’hebdo ou dans le trimestriel, Magic a recommandé l’écoute d’environ 500 nouveautés pop, rock, folk, électro, chanson, rap, néoclassique, ambient et autres ramifications de la musique populaire enregistrée d’avant-garde, de France et d’ailleurs.', 'Notre numéro un – nous vous laissons aussi le découvrir en remontant le fil de ce classement en ligne – s’est imposé dans la dernière ligne droite, à force d’écoutes addictives d’une bonne partie de l’équipe et l’évidence d’un univers d’une splendide modernité électro-pop.', 'Vous pouvez toujours commander ce numéro ici. Les cent disques ont droit à leur chronique dans les 204 pages de notre hors-série. 100 places, 100 chroniques, des entretiens et analyses longs formats ou encore l’année à emporter en short lists… ', 'Vous y trouverez aussi le classement des lecteurs, que nous allons publier d’ici la fin de l’année, avec quelques classements individuels de nos plumes ainsi qu’une playlist resserrée pour célébrer 2022, année bénie du retour de Magic dans nos vies. Pour rejoindre cette communauté de passionnés, c’est ici.', '100. C. TANGANA – El Madrileño (La Sobremesa) (SONY MUSIC)', '99. FRANKIE COSMOS – Inner World Peace (SUB POP RECORDS)', '98. EGGS – A Glitter Year (HOWLIN BANANA RECORDS / SAFE IN THE RAIN RECORDS)', '97. BLACK OX ORKESTAR – Everything Returns (CONSTELLATION RECORDS)', '96. EMBRASSE MOI – Grand écart (TFT LABEL)', '95. JULIA, JULIA – Derealization (SUICIDE SQUEEZE RECORDS)', '94. BOPS – Sounds of Parade (LE CÈPE RECORDS)', '93. JOHNNIE CARWASH – Teenage Ends (HOWLIN BANANA RECORDS)', '92. GUADAL TEJAZ – Noche Triste (BEAST RECORDS / CRÈME BRÛLÉE RECORDS / LA NEF D FOUS)', '91. FONTANAROSA – Are You There ? (HOWLIN BANANA RECORDS)', '___', '90. OISEAUX-TEMPÊTE – WHAT ON EARTH (Que Diable) (SUB ROSA / NAHAL RECORDINGS)', '89. MICAH P. HINSON – I Lie to You (PONDEROSA MUSIC)', '88. BERTRAND BELIN – Tambour Vision (CINQ7)', '87. KOKI NAKANO – Oceanic Feeling (NO FORMAT)', '86. JB DUNCKEL – Carbon (PROTOTYP RECORDING)', '85. DRUGDEALER – Hiding in Plain Sight (MEXICAN SUMMER)', '84. ΣTELLA – Up and Away (SUB POP RECORDS)', '83. THE COOL GREENHOUSE – Sod’s Toastie (MELODIC RECORDS)', '82. HOT CHIP – Freakout/Release (DOMINO RECORDS)', '81. ALELA DIANE – Looking Glass (NAÏVE RECORDS)', '___', '80. AND ALSO THE TREES – The Bone Carver (AATT)', '79. CASS MCCOMBS – Heartmind (ANTI- RECORDS)', '78. LNDFK – Kuni (BASTARD JAZZ RECORDINGS)', '77. ROSE MERCIE – ¿KIERES AGUA? (JELODANTI RECORDS / CELLULOID LUNCH)', '76. WARHAUS – Ha Ha Heartbreak ([PIAS])', '75. SILVERBACKS – Archive Material (FULL TIME HOBBY)', '74. NNAMDÏ – Please Have a Seat (SECRETLY CANADIAN / SOOPER RECORDS)', '73. TOM SKINNER – Voices of Bishara (BROWNSWOOD RECORDINGS)', '72. BIG THIEF – Dragon New Warm Mountain I Believe in You (4AD)', '71. BRACE ! BRACE ! – Care (HOWLIN BANANA RECORDS)', '___', '70. JULIEN GASC – Re Eff (CORPS DOUBLE)', '69. DESTROYER – LABYRINTHITIS (BELLA UNION / [PIAS])', '68. SHARON VAN ETTEN – We’ve Been Going About This All Wrong (JAGJAGUWAR)', '67. SESSA – Estrela Acesa (MEXICAN SUMMER)', '66. PHOENIX – Alpha Zulu (LOYAUTÉ / GLASSNOTE RECORDS / A+LSO)', '65. JACQUES – LIMPORTANCEDUVIDE (RECHERCHE & DÉVELOPPEMENT)', '64. CATE LE BON – Pompeii (MEXICAN SUMMER)', '63. EVE ADAMS – Metal Bird (BASIN ROCK)', '62. ALEX G – God Save the Animals (DOMINO RECORDS)', '61. COURTING – Guitar Music ([PIAS])', '___', '60. LESNEU – Ce qui ne vient jamais vraiment (MUSIC FROM THE MASSES / [PIAS])', '59. BESS OF BEDLAM – Dance Until the Crimes End (ANOTHER RECORD / DUR ET DOUX)', '58. MARINA ALLEN – Centrifics (FIRE RECORDS)', '57. WILCO – Cruel Country (DBPM RECORDS)', '56. TH DA FREAK – Coyote (HOWLIN BANANA RECORDS)', '55. DANA GAVANSKI – When It Comes (FULL TIME HOBBY)', '54. TESS PARKS – And Those Who Were Seen Dancing (FUZZ CLUB RECORDS)', '53. SORRY – Anywhere but Here (DOMINO RECORDS)', '52. FATHER JOHN MISTY – Chloë and the Next 20th Century (BELLA UNION / [PIAS])', '51. BLACK MIDI – Hellfire (ROUGH TRADE RECORDS)', '___', 'LA DEUXIÈME PARTIE DU TOP,\\xa0C’EST PAR ICI.', \"RPM, c'est pour Revue Pop Moderne, magazine de référence sur la pop, indispensable depuis 1995. Plus de 30 numéros par an dans votre boîte aux lettres (abonnez-vous à notre newsletter !)\\n            \", 'MAGIC RPM 55B rue de Lyon 75012 Paris', 'Contacter la rédaction']\n",
      "[{'rank': '100', 'artist': 'C. TANGANA', 'title': 'El Madrileño'}, {'rank': '99', 'artist': 'FRANKIE COSMOS', 'title': 'Inner World Peace'}, {'rank': '98', 'artist': 'EGGS', 'title': 'A Glitter Year'}, {'rank': '97', 'artist': 'BLACK OX ORKESTAR', 'title': 'Everything Returns'}, {'rank': '96', 'artist': 'EMBRASSE MOI', 'title': 'Grand écart'}, {'rank': '95', 'artist': 'JULIA, JULIA', 'title': 'Derealization'}, {'rank': '94', 'artist': 'BOPS', 'title': 'Sounds of Parade'}, {'rank': '93', 'artist': 'JOHNNIE CARWASH', 'title': 'Teenage Ends'}, {'rank': '92', 'artist': 'GUADAL TEJAZ', 'title': 'Noche Triste'}, {'rank': '91', 'artist': 'FONTANAROSA', 'title': 'Are You There ?'}, {'rank': '90', 'artist': 'OISEAUX-TEMPÊTE', 'title': 'WHAT ON EARTH'}, {'rank': '89', 'artist': 'MICAH P. HINSON', 'title': 'I Lie to You'}, {'rank': '88', 'artist': 'BERTRAND BELIN', 'title': 'Tambour Vision'}, {'rank': '87', 'artist': 'KOKI NAKANO', 'title': 'Oceanic Feeling'}, {'rank': '86', 'artist': 'JB DUNCKEL', 'title': 'Carbon'}, {'rank': '85', 'artist': 'DRUGDEALER', 'title': 'Hiding in Plain Sight'}, {'rank': '84', 'artist': 'ΣTELLA', 'title': 'Up and Away'}, {'rank': '83', 'artist': 'THE COOL GREENHOUSE', 'title': 'Sod’s Toastie'}, {'rank': '82', 'artist': 'HOT CHIP', 'title': 'Freakout/Release'}, {'rank': '81', 'artist': 'ALELA DIANE', 'title': 'Looking Glass'}, {'rank': '80', 'artist': 'AND ALSO THE TREES', 'title': 'The Bone Carver'}, {'rank': '79', 'artist': 'CASS MCCOMBS', 'title': 'Heartmind'}, {'rank': '78', 'artist': 'LNDFK', 'title': 'Kuni'}, {'rank': '77', 'artist': 'ROSE MERCIE', 'title': '¿KIERES AGUA?'}, {'rank': '76', 'artist': 'WARHAUS', 'title': 'Ha Ha Heartbreak'}, {'rank': '75', 'artist': 'SILVERBACKS', 'title': 'Archive Material'}, {'rank': '74', 'artist': 'NNAMDÏ', 'title': 'Please Have a Seat'}, {'rank': '73', 'artist': 'TOM SKINNER', 'title': 'Voices of Bishara'}, {'rank': '72', 'artist': 'BIG THIEF', 'title': 'Dragon New Warm Mountain I Believe in You'}, {'rank': '71', 'artist': 'BRACE ! BRACE !', 'title': 'Care'}, {'rank': '70', 'artist': 'JULIEN GASC', 'title': 'Re Eff'}, {'rank': '69', 'artist': 'DESTROYER', 'title': 'LABYRINTHITIS'}, {'rank': '68', 'artist': 'SHARON VAN ETTEN', 'title': 'We’ve Been Going About This All Wrong'}, {'rank': '67', 'artist': 'SESSA', 'title': 'Estrela Acesa'}, {'rank': '66', 'artist': 'PHOENIX', 'title': 'Alpha Zulu'}, {'rank': '65', 'artist': 'JACQUES', 'title': 'LIMPORTANCEDUVIDE'}, {'rank': '64', 'artist': 'CATE LE BON', 'title': 'Pompeii'}, {'rank': '63', 'artist': 'EVE ADAMS', 'title': 'Metal Bird'}, {'rank': '62', 'artist': 'ALEX G', 'title': 'God Save the Animals'}, {'rank': '61', 'artist': 'COURTING', 'title': 'Guitar Music'}, {'rank': '60', 'artist': 'LESNEU', 'title': 'Ce qui ne vient jamais vraiment'}, {'rank': '59', 'artist': 'BESS OF BEDLAM', 'title': 'Dance Until the Crimes End'}, {'rank': '58', 'artist': 'MARINA ALLEN', 'title': 'Centrifics'}, {'rank': '57', 'artist': 'WILCO', 'title': 'Cruel Country'}, {'rank': '56', 'artist': 'TH DA FREAK', 'title': 'Coyote'}, {'rank': '55', 'artist': 'DANA GAVANSKI', 'title': 'When It Comes'}, {'rank': '54', 'artist': 'TESS PARKS', 'title': 'And Those Who Were Seen Dancing'}, {'rank': '53', 'artist': 'SORRY', 'title': 'Anywhere but Here'}, {'rank': '52', 'artist': 'FATHER JOHN MISTY', 'title': 'Chloë and the Next 20th Century'}, {'rank': '51', 'artist': 'BLACK MIDI', 'title': 'Hellfire'}]\n",
      "[{'rank': '100', 'artist': 'C. TANGANA', 'title': 'El Madrileño'}, {'rank': '99', 'artist': 'FRANKIE COSMOS', 'title': 'Inner World Peace'}, {'rank': '98', 'artist': 'EGGS', 'title': 'A Glitter Year'}, {'rank': '97', 'artist': 'BLACK OX ORKESTAR', 'title': 'Everything Returns'}, {'rank': '96', 'artist': 'EMBRASSE MOI', 'title': 'Grand écart'}, {'rank': '95', 'artist': 'JULIA, JULIA', 'title': 'Derealization'}, {'rank': '94', 'artist': 'BOPS', 'title': 'Sounds of Parade'}, {'rank': '93', 'artist': 'JOHNNIE CARWASH', 'title': 'Teenage Ends'}, {'rank': '92', 'artist': 'GUADAL TEJAZ', 'title': 'Noche Triste'}, {'rank': '91', 'artist': 'FONTANAROSA', 'title': 'Are You There ?'}, {'rank': '90', 'artist': 'OISEAUX-TEMPÊTE', 'title': 'WHAT ON EARTH'}, {'rank': '89', 'artist': 'MICAH P. HINSON', 'title': 'I Lie to You'}, {'rank': '88', 'artist': 'BERTRAND BELIN', 'title': 'Tambour Vision'}, {'rank': '87', 'artist': 'KOKI NAKANO', 'title': 'Oceanic Feeling'}, {'rank': '86', 'artist': 'JB DUNCKEL', 'title': 'Carbon'}, {'rank': '85', 'artist': 'DRUGDEALER', 'title': 'Hiding in Plain Sight'}, {'rank': '84', 'artist': 'ΣTELLA', 'title': 'Up and Away'}, {'rank': '83', 'artist': 'THE COOL GREENHOUSE', 'title': 'Sod’s Toastie'}, {'rank': '82', 'artist': 'HOT CHIP', 'title': 'Freakout/Release'}, {'rank': '81', 'artist': 'ALELA DIANE', 'title': 'Looking Glass'}, {'rank': '80', 'artist': 'AND ALSO THE TREES', 'title': 'The Bone Carver'}, {'rank': '79', 'artist': 'CASS MCCOMBS', 'title': 'Heartmind'}, {'rank': '78', 'artist': 'LNDFK', 'title': 'Kuni'}, {'rank': '77', 'artist': 'ROSE MERCIE', 'title': '¿KIERES AGUA?'}, {'rank': '76', 'artist': 'WARHAUS', 'title': 'Ha Ha Heartbreak'}, {'rank': '75', 'artist': 'SILVERBACKS', 'title': 'Archive Material'}, {'rank': '74', 'artist': 'NNAMDÏ', 'title': 'Please Have a Seat'}, {'rank': '73', 'artist': 'TOM SKINNER', 'title': 'Voices of Bishara'}, {'rank': '72', 'artist': 'BIG THIEF', 'title': 'Dragon New Warm Mountain I Believe in You'}, {'rank': '71', 'artist': 'BRACE ! BRACE !', 'title': 'Care'}, {'rank': '70', 'artist': 'JULIEN GASC', 'title': 'Re Eff'}, {'rank': '69', 'artist': 'DESTROYER', 'title': 'LABYRINTHITIS'}, {'rank': '68', 'artist': 'SHARON VAN ETTEN', 'title': 'We’ve Been Going About This All Wrong'}, {'rank': '67', 'artist': 'SESSA', 'title': 'Estrela Acesa'}, {'rank': '66', 'artist': 'PHOENIX', 'title': 'Alpha Zulu'}, {'rank': '65', 'artist': 'JACQUES', 'title': 'LIMPORTANCEDUVIDE'}, {'rank': '64', 'artist': 'CATE LE BON', 'title': 'Pompeii'}, {'rank': '63', 'artist': 'EVE ADAMS', 'title': 'Metal Bird'}, {'rank': '62', 'artist': 'ALEX G', 'title': 'God Save the Animals'}, {'rank': '61', 'artist': 'COURTING', 'title': 'Guitar Music'}, {'rank': '60', 'artist': 'LESNEU', 'title': 'Ce qui ne vient jamais vraiment'}, {'rank': '59', 'artist': 'BESS OF BEDLAM', 'title': 'Dance Until the Crimes End'}, {'rank': '58', 'artist': 'MARINA ALLEN', 'title': 'Centrifics'}, {'rank': '57', 'artist': 'WILCO', 'title': 'Cruel Country'}, {'rank': '56', 'artist': 'TH DA FREAK', 'title': 'Coyote'}, {'rank': '55', 'artist': 'DANA GAVANSKI', 'title': 'When It Comes'}, {'rank': '54', 'artist': 'TESS PARKS', 'title': 'And Those Who Were Seen Dancing'}, {'rank': '53', 'artist': 'SORRY', 'title': 'Anywhere but Here'}, {'rank': '52', 'artist': 'FATHER JOHN MISTY', 'title': 'Chloë and the Next 20th Century'}, {'rank': '51', 'artist': 'BLACK MIDI', 'title': 'Hellfire'}]\n"
     ]
    }
   ],
   "source": [
    "# json_params = json.dumps(params)\n",
    "# keys = list(params.keys())\n",
    "# for key in keys[4:4]:    \n",
    "#     urls = params[key][\"urls\"]\n",
    "#     regex = params[key][\"regex\"]\n",
    "#     artist_first = params[key][\"artist_first\"]\n",
    "#     soup = params[key][\"soup\"]\n",
    "#     data = extract_spectrum(urls, soup, regex, artist_first)\n",
    "#     df = create_dataframe(data,'uuid')\n",
    "#     ret = add_ranking(key, params[key][\"name\"], params[key][\"title\"], urls[0], params[key][\"style\"], params[key][\"year\"],params[key][\"date\"],params[key][\"language\"])\n",
    "#     df['id_ranking'] = key\n",
    "#     save_to_sqlite(df)\n",
    "#     print(df)\n",
    "\n",
    "# 0. Supprimer le classement\n",
    "#delete_ranking('https://www.nme.com/photos/the-500-greatest-albums-of-all-time-100-1-1426116')\n",
    "# 1. Récupérer les informations brutes depuis le site web\n",
    "#data = extract_data_from_url(\"https://www.nme.com/photos/the-500-greatest-albums-of-all-time-100-1-1426116\", \"h2\")\n",
    "#data = extract_data_from_url(\"https://www.nme.com/photos/the-500-greatest-albums-of-all-time-200-101-1426258\", \"h2\")\n",
    "#data = extract_data_from_url(\"https://www.nme.com/photos/the-500-greatest-albums-of-all-time-300-201-1426482\", \"h2\")\n",
    "#data = extract_data_from_url(\"https://www.nme.com/photos/the-500-greatest-albums-of-all-time-400-301-1426436\", \"h2\")\n",
    "#data = extract_data_from_url(\"https://www.nme.com/photos/the-500-greatest-albums-of-all-time-500-401-1426363\", \"h2\")\n",
    "#data = extract_data_from_url(\"https://consequence.net/2022/09/best-albums-all-time-list/22/\", \"h2\")\n",
    "#data = extract_data_from_url(\"https://www.magicrpm.com/les-100-meilleurs-albums-de-2023-n50-a-n1/\", \"p\")\n",
    "data = extract_data_from_url(\"https://www.magicrpm.com/les-100-meilleurs-albums-de-2022/\", \"p\")\n",
    "print(data)\n",
    "# 2. Nettoyer les données\n",
    "data_clean = clean_data(data)\n",
    "print(data_clean)\n",
    "# 3. Extraire les données de la liste (rank, artist, title)\n",
    "data_extract = extract_data(data_clean)\n",
    "print(data_extract)\n",
    "# 4. Contrôle la position des données dans la liste\n",
    "if (len(data_extract) == 50) :\n",
    "    # 4. Créer le classement dans la base de données\n",
    "    #id = add_ranking('Magic', 'Les 100 meilleurs albums de 2022', 'https://www.magicrpm.com/les-100-meilleurs-albums-de-2022-n50-a-n1/', '', '2022', '22/12/2022', 'fr')\n",
    "    #df = create_dataframe(data_extract,id)\n",
    "    df = create_dataframe(data_extract,\"b59132c5-4bb8-49ed-8941-bf5d975b07cd\")\n",
    "    # Convert rank to integer\n",
    "    #df['rank'] = df['rank'].astype(int)\n",
    "    # invert ranking and add 100\n",
    "    #df['rank'] = 101 - df['rank'].astype(int)+400\n",
    "    save_to_sqlite(df)\n",
    "    print(data_extract)\n",
    "else : \n",
    "    print(\"Erreur dans la récupération des données\")\n",
    "\n"
   ]
  }
 ],
 "metadata": {
  "kernelspec": {
   "display_name": "Python 3",
   "language": "python",
   "name": "python3"
  },
  "language_info": {
   "codemirror_mode": {
    "name": "ipython",
    "version": 3
   },
   "file_extension": ".py",
   "mimetype": "text/x-python",
   "name": "python",
   "nbconvert_exporter": "python",
   "pygments_lexer": "ipython3",
   "version": "3.11.6"
  }
 },
 "nbformat": 4,
 "nbformat_minor": 2
}
